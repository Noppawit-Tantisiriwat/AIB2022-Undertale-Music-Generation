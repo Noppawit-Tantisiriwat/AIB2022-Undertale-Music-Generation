{
 "cells": [
  {
   "cell_type": "markdown",
   "metadata": {},
   "source": [
    "# การสำรวจข้อมูล"
   ]
  },
  {
   "cell_type": "code",
   "execution_count": 1,
   "metadata": {},
   "outputs": [],
   "source": [
    "#นำเข้า library ที่จำเป็น\n",
    "import music21 # ใช้ในการอ่านโน๊ต และอ่านไฟล์ .midi\n",
    "import mido # ใช้ในการอ่านไฟล์ .midi ให้เป็น message\n",
    "import pypianoroll # ใช้ในการดัดแปลง pianoroll array และ บันทึกไฟล์ .midi\n",
    "from music21 import converter, instrument, note, chord # function และ module ที่จำเป็นในการจัดกระทำข้อมูล\n",
    "\n",
    "import numpy as np \n",
    "import pandas as pd\n",
    "import matplotlib.pyplot as plt\n",
    "import seaborn as sns\n",
    "\n",
    "import string\n",
    "import os\n",
    "import os.path as op\n",
    "from pathlib import Path\n",
    "import glob\n",
    "from tqdm import tqdm\n",
    "import pickle"
   ]
  },
  {
   "cell_type": "code",
   "execution_count": 2,
   "metadata": {},
   "outputs": [],
   "source": [
    "DATA = \"../data\""
   ]
  },
  {
   "cell_type": "code",
   "execution_count": 3,
   "metadata": {},
   "outputs": [],
   "source": [
    "## เปลี่ยนเชื่อไฟล์ข้อมูลให้ไม่มีช่องว่าง \" \" โดยการแทนที่ด้วย \"_\"\n",
    "\n",
    "for music in glob.glob(DATA+\"/undertale/*.mid\"):\n",
    "    music_new_name  = \"_\".join(music.split(\" \"))\n",
    "    os.rename(music, music_new_name)"
   ]
  },
  {
   "cell_type": "code",
   "execution_count": 4,
   "metadata": {},
   "outputs": [
    {
     "name": "stderr",
     "output_type": "stream",
     "text": [
      "100%|██████████| 148/148 [00:06<00:00, 22.58it/s]\n"
     ]
    }
   ],
   "source": [
    "## get all data resolutions -> ดูว่าโน็ตตัวดำ 1 ตัวถูกแบ่งเป็นกี่โน๊ตย่อย (resolution) -> อาศัยในการแปลง resolution ในอนาคต\n",
    "resolution_list = []\n",
    "error_file = [] # ตรวจหาไฟล์ที่ไม่สามารถเปิดได้  aka. เสีย\n",
    "for music in tqdm(glob.glob(DATA+\"/undertale/*.mid\")):\n",
    "    try:\n",
    "        mid = mido.MidiFile(filename=music, clip=True) # ใช้ library mido ในการอ่าน midi โดยใช้ argument \"clip\" เพื่อกำหนดค่าให้อยู่ในช่วง 0-127 \n",
    "        resolution_list.append({Path(music).stem: mid.ticks_per_beat}) # เก็บค่า resolution และ ชื่อเพลง\n",
    "        \n",
    "    # ERRORs ที่อาจเกิดขึ้นได้\n",
    "    except ValueError: \n",
    "        error_file.append(music)\n",
    "        print(f\"ValueError: data byte must be in range 0..127 at file {music}\")\n",
    "\n",
    "    except OSError:\n",
    "        error_file.append(music)\n",
    "        print(f\"OSError: data byte must be in range 0..127 at file {music}\")\n",
    "    \n",
    "    except EOFError:\n",
    "\n",
    "        error_file.append(music)\n",
    "        print(f\"EOFError: at file {music}\")"
   ]
  },
  {
   "cell_type": "code",
   "execution_count": 5,
   "metadata": {},
   "outputs": [
    {
     "name": "stdout",
     "output_type": "stream",
     "text": [
      "total error files :  0\n",
      "total successfully loaded :  148\n",
      "total files count :  148\n"
     ]
    }
   ],
   "source": [
    "# ตรวจสอบผลลัพธ์\n",
    "print(\"total error files : \",len(error_file))\n",
    "print(\"total successfully loaded : \",len(resolution_list))\n",
    "print(\"total files count : \",len(glob.glob(DATA+\"/undertale/*.mid\")))"
   ]
  },
  {
   "cell_type": "code",
   "execution_count": 6,
   "metadata": {},
   "outputs": [
    {
     "data": {
      "text/plain": [
       "[]"
      ]
     },
     "execution_count": 6,
     "metadata": {},
     "output_type": "execute_result"
    }
   ],
   "source": [
    "# ดูชื่อไฟล์ที่ไม่สามารถอ่านได้ -> ใช้ในการคัดออกในลำดับถัดไป\n",
    "error_file"
   ]
  },
  {
   "cell_type": "code",
   "execution_count": 7,
   "metadata": {},
   "outputs": [
    {
     "data": {
      "image/png": "[encoded data removed]",
      "text/plain": [
       "<Figure size 432x288 with 1 Axes>"
      ]
     },
     "metadata": {
      "image/png": {
       "height": 248,
       "width": 375
      },
      "needs_background": "light"
     },
     "output_type": "display_data"
    }
   ],
   "source": [
    "### ดูการกระจายตัวของ resolution ในชุดข้อมูล\n",
    "\n",
    "plt.hist(np.array([list(res_dict.values())[0] for res_dict in resolution_list]), bins=10)\n",
    "plt.show()"
   ]
  },
  {
   "cell_type": "code",
   "execution_count": 8,
   "metadata": {},
   "outputs": [],
   "source": [
    "#### กำหนด function เพื่อแปลง midi (อาจมีหลายเสียงเครื่องดนตรี [\"track\"] ใน 1 ไฟล์ )ให้เป็น pianoroll ที่ประกอบด้วยเครื่องดนตรีเพียงชนิดเดียว\n",
    "def midi_2_pianoroll(midifile):\n",
    "    # อ่านไฟล์\n",
    "    mid = mido.MidiFile(str(midifile), clip=True)\n",
    "    # function ใช้ในการเปลี่ยนจาก midi message เป็น dictionary -> จุดเริ่มต้น&สิ้นสุดของโน๊ต + ความดัง\n",
    "    def msg2dict(msg):\n",
    "        result = dict()\n",
    "        if 'note_on' in msg:\n",
    "            on_ = True\n",
    "        elif 'note_off' in msg:\n",
    "            on_ = False\n",
    "        else:\n",
    "            on_ = None\n",
    "        result['time'] = int(msg[msg.rfind('time'):].split(' ')[0].split('=')[1].translate(\n",
    "            str.maketrans({a: None for a in string.punctuation})))\n",
    "\n",
    "        if on_ is not None:\n",
    "            for k in ['note', 'velocity']:\n",
    "                result[k] = int(msg[msg.rfind(k):].split(' ')[0].split('=')[1].translate(\n",
    "                    str.maketrans({a: None for a in string.punctuation})))\n",
    "        return [result, on_]\n",
    "    \n",
    "    # function เปลี่่ยนเป็นโน๊ตตัวถัดไปหลังจากจบโน๊ตตัวก่อน : การตรวจจับการเปลี่ยน\n",
    "    def switch_note(last_state, note, velocity, on_=True):\n",
    "\n",
    "        result = [0] * 128 if last_state is None else last_state.copy()\n",
    "\n",
    "        result[note] = velocity if on_ else 0 \n",
    "        return result\n",
    "    # function เปลี่่ยนเป็นโน๊ตตัวถัดไปหลังจากจบโน๊ตตัวก่อน : ทำการเปลี่ยน\n",
    "    def get_new_state(new_msg, last_state):\n",
    "        new_msg, on_ = msg2dict(str(new_msg))\n",
    "        new_state = switch_note(last_state, note=new_msg['note'], velocity=new_msg['velocity'], on_=on_) if on_ is not None else last_state\n",
    "        return [new_state, new_msg['time']]\n",
    "    # function เปลี่ยนจาก message ของ ทุก track ให้เป็น sequence เพียง sequence เดียว ->> *** สำคัญในการแปลงเป็นเสียงเครื่องดนตรีชนิดเดียว ***\n",
    "    def track2seq(track):\n",
    "     \n",
    "        result = []\n",
    "        last_state, last_time = get_new_state(str(track[0]), [0]*128)\n",
    "        for i in range(1, len(track)):\n",
    "            new_state, new_time = get_new_state(track[i], last_state)\n",
    "            if new_time > 0:\n",
    "                result += [last_state]*new_time\n",
    "            last_state, last_time = new_state, new_time\n",
    "        return result\n",
    "\n",
    "    ## function แปลง midi เป็น pianoroll สมบูรณ์\n",
    "    def mid2arry(mid, min_msg_pct=0.1):\n",
    "        tracks_len = [len(tr) for tr in mid.tracks]\n",
    "        min_n_msg = max(tracks_len) * min_msg_pct\n",
    "        # แปลง tracks แต่ละ track ให้เป็น list หลายชั้น\n",
    "        all_arys = []\n",
    "        for i in range(len(mid.tracks)):\n",
    "            if len(mid.tracks[i]) > min_n_msg:\n",
    "                ary_i = track2seq(mid.tracks[i])\n",
    "                all_arys.append(ary_i)\n",
    "        # ทำให้ list หลายชันดังกล่าวมีความยาวเท่ากัน\n",
    "        max_len = max([len(ary) for ary in all_arys])\n",
    "        for i in range(len(all_arys)):\n",
    "            if len(all_arys[i]) < max_len:\n",
    "                all_arys[i] += [[0] * 128] * (max_len - len(all_arys[i]))\n",
    "        all_arys = np.array(all_arys)\n",
    "        all_arys = all_arys.max(axis=0)\n",
    "        # ตัดช่วงเงียบออก\n",
    "        sums = all_arys.sum(axis=1)\n",
    "        ends = np.where(sums > 0)[0]\n",
    "        return all_arys[min(ends): max(ends)]\n",
    "    \n",
    "    result_array = mid2arry(mid)\n",
    "    \n",
    "    \n",
    "    return result_array"
   ]
  },
  {
   "cell_type": "markdown",
   "metadata": {},
   "source": [
    "# การลด resolution (ความละเอียดของโน๊ตตัวดำ 1 ตัว)"
   ]
  },
  {
   "cell_type": "code",
   "execution_count": 9,
   "metadata": {},
   "outputs": [],
   "source": [
    "# ทำการลด resolution เหลือ 96 โดยไม่เสียนัยของข้อมูล แต่ทำให้สามารถเปิดได้ง่ายขึ้น และมีความซับซ้อนน้อยลง\n",
    "## *** การ deresolution สามารถทำเป็นขั้นเดียวกับการลดจำนวน track ได้ -> เขียนรวบเป็นขั้นตอนเดียวกัน ***"
   ]
  },
  {
   "cell_type": "code",
   "execution_count": 10,
   "metadata": {},
   "outputs": [],
   "source": [
    "# กำหนดค่า resolution ที่ต้องการ \n",
    "target_res = 96"
   ]
  },
  {
   "cell_type": "code",
   "execution_count": 11,
   "metadata": {},
   "outputs": [],
   "source": [
    "# หา tempo ของ midi -> tempo array\n",
    "def get_tempo(mid):\n",
    "    tempo_list = []\n",
    "    for track in mid.tracks:\n",
    "        for msg in track:\n",
    "            if msg.type == 'set_tempo':\n",
    "                tempo_list.append(msg.tempo)\n",
    "            else:\n",
    "                tempo_list.append(500000)\n",
    "\n",
    "\n",
    "    return np.array(tempo_list)"
   ]
  },
  {
   "cell_type": "code",
   "execution_count": 12,
   "metadata": {},
   "outputs": [],
   "source": [
    "## function แปลงจาก pianoroll เป็น midi เช่นเดิม\n",
    "def pianoroll_array_2_midi(array: np.array, tempo, resolution):\n",
    "    return pypianoroll.Multitrack(tracks=[pypianoroll.StandardTrack(name=\"My Track\", pianoroll=array, program=0)], tempo=tempo, resolution=resolution)"
   ]
  },
  {
   "cell_type": "code",
   "execution_count": 13,
   "metadata": {},
   "outputs": [],
   "source": [
    "# กำหนดโฟลเดอร์ของ midi ที่ทำการแปลง resolution แล้ว\n",
    "preprocessed_dir = DATA + \"/96_res\""
   ]
  },
  {
   "cell_type": "code",
   "execution_count": 14,
   "metadata": {},
   "outputs": [
    {
     "name": "stdout",
     "output_type": "stream",
     "text": [
      "Starts getting data!\n"
     ]
    },
    {
     "name": "stderr",
     "output_type": "stream",
     "text": [
      "100%|██████████| 148/148 [06:48<00:00,  2.76s/it]\n"
     ]
    }
   ],
   "source": [
    "##  สร้าง list และ dict ที่เก็บข้อมูลสำคัญต่างๆของ midi\n",
    "\n",
    "meta_list = []\n",
    "error_file = []\n",
    "print(\"Starts getting data!\")\n",
    "for music in tqdm(glob.glob(DATA+\"/undertale/*.mid\")):\n",
    "    music_dict = {}\n",
    "    try:\n",
    "        mid = mido.MidiFile(music, clip=True)\n",
    "        music_dict[\"old_path\"] = music\n",
    "        music_dict[\"new_path\"] = op.join(preprocessed_dir, Path(music).stem+\".mid\")\n",
    "        music_dict[\"resolution\"] = mid.ticks_per_beat\n",
    "        music_dict[\"old_tempo\"] = mido.tempo2bpm(get_tempo(mid))\n",
    "        music_dict[\"new_tempo\"] = music_dict[\"old_tempo\"] / (target_res/music_dict[\"resolution\"]) # เมื่อทำการลด resolution เพื่อทำให้ความเร็วของเพลงเหมือนเดิม -> เพิ่ม tempo ในอัตราส่วนเดียวกัน\n",
    "        music_dict[\"pianoroll_array\"] = midi_2_pianoroll(music_dict[\"old_path\"])\n",
    "        \n",
    "        \n",
    "        meta_list.append(music_dict)\n",
    "    except ValueError:\n",
    "        error_file.append(music)\n",
    "        print(f\"ValueError: data byte must be in range 0..127 at file {music}\")\n",
    "\n",
    "    except OSError:\n",
    "        error_file.append(music)\n",
    "        print(f\"OSError: data byte must be in range 0..127 at file {music}\")\n",
    "    \n",
    "    except EOFError:\n",
    "\n",
    "        error_file.append(music)\n",
    "        print(f\"EOFError: at file {music}\")"
   ]
  },
  {
   "cell_type": "code",
   "execution_count": 16,
   "metadata": {},
   "outputs": [
    {
     "name": "stdout",
     "output_type": "stream",
     "text": [
      "Start writing preprocessed data!\n"
     ]
    },
    {
     "name": "stderr",
     "output_type": "stream",
     "text": [
      "100%|██████████| 148/148 [01:06<00:00,  2.21it/s]\n"
     ]
    }
   ],
   "source": [
    "## เริ่มทำการ preprocess\n",
    "### หากต้องการเพิ่ม handle exception สามารถ uncomment ได้\n",
    "print(\"Start writing preprocessed data!\")\n",
    "for music_dict in tqdm(meta_list):\n",
    "    #try:\n",
    "        midi_tracks = pianoroll_array_2_midi(music_dict[\"pianoroll_array\"], music_dict[\"new_tempo\"], target_res)\n",
    "        # เขียน midi\n",
    "        pypianoroll.write(music_dict[\"new_path\"], midi_tracks)\n",
    "    #except:\n",
    "        #print(f\"There is an error at {music_dict['new_path']}\")"
   ]
  },
  {
   "cell_type": "markdown",
   "metadata": {},
   "source": [
    "# การเตรียมข้อมูลสำหรับโมเดลประเภท window sliding"
   ]
  },
  {
   "cell_type": "code",
   "execution_count": 17,
   "metadata": {},
   "outputs": [],
   "source": [
    "### ภายหลังจาการ deresolution เราจะทำการแปลง midi ให้เป็นลำดับของโน๊ต"
   ]
  },
  {
   "cell_type": "code",
   "execution_count": 18,
   "metadata": {},
   "outputs": [
    {
     "name": "stderr",
     "output_type": "stream",
     "text": [
      "100%|██████████| 148/148 [8:28:07<00:00, 206.00s/it]    \n"
     ]
    }
   ],
   "source": [
    "# รวมลำดับโน็ต\n",
    "notes = []\n",
    "\n",
    "for file in tqdm(glob.glob(preprocessed_dir + \"/*.mid\")):\n",
    "    midi = converter.parse(file)\n",
    "    notes_to_parse = None\n",
    "    # อ่านโน๊ตแบบ flat note\n",
    "    notes_to_parse = midi.flat.notes\n",
    "\n",
    "    for element in notes_to_parse:\n",
    "        if isinstance(element, note.Note): \n",
    "            notes.append(str(element.pitch))\n",
    "        elif isinstance(element, chord.Chord): # แปลง chord ให้กลายเป้น string ของตัวเลข ที่ระบุโน๊ตแต่ละตัว เช่น \"1.6.7.11\"\n",
    "            notes.append('.'.join(str(n) for n in element.normalOrder))"
   ]
  },
  {
   "cell_type": "code",
   "execution_count": 19,
   "metadata": {},
   "outputs": [],
   "source": [
    "# บันทึกลำดับโน๊เพื่อใช้ในการ train ต่อไป\n",
    "with open('../data/notes_final.pkl', 'wb') as f:\n",
    "    pickle.dump(notes, f)"
   ]
  },
  {
   "cell_type": "code",
   "execution_count": 20,
   "metadata": {},
   "outputs": [],
   "source": [
    "## จะทำการ window sliding ใน file ที่ทำการ train โมเดล"
   ]
  },
  {
   "cell_type": "markdown",
   "metadata": {},
   "source": [
    "# การเตรียมข้อมูลสำหรับโมเดลประเภท Teacher Forcing"
   ]
  },
  {
   "cell_type": "code",
   "execution_count": 21,
   "metadata": {},
   "outputs": [
    {
     "name": "stderr",
     "output_type": "stream",
     "text": [
      "100%|██████████| 148/148 [01:09<00:00,  2.13it/s]\n"
     ]
    }
   ],
   "source": [
    "# เก็บข้อมูลของชื่อเพลง และลำดับโน๊ตเป็น dictionary\n",
    "dataset = dict()\n",
    "\n",
    "for file in tqdm(glob.glob(preprocessed_dir + \"/*.mid\")):\n",
    "    notes = []\n",
    "    midi = converter.parse(file)\n",
    "    notes_to_parse = None\n",
    "    \n",
    "    notes_to_parse = midi.flat.notes\n",
    "\n",
    "    for element in notes_to_parse:\n",
    "        if isinstance(element, note.Note):\n",
    "            notes.append(str(element.pitch))\n",
    "        elif isinstance(element, chord.Chord):\n",
    "            notes.append('.'.join(str(n) for n in element.normalOrder))\n",
    "    \n",
    "    dataset[str(file)] = notes\n",
    "\n",
    "        #keys    # values\n",
    "### {\"ชื่อเพลง\" : [notes],  ...}"
   ]
  },
  {
   "cell_type": "code",
   "execution_count": 22,
   "metadata": {},
   "outputs": [],
   "source": [
    "# บันทึก dictionary\n",
    "with open('../data/dataset_undertale_dict.pkl', 'wb') as f:\n",
    "    pickle.dump(dataset, f)\n"
   ]
  },
  {
   "cell_type": "markdown",
   "metadata": {},
   "source": [
    "# การตรวจสอบข้อมูลหลังทำความสะอาด"
   ]
  },
  {
   "cell_type": "code",
   "execution_count": 23,
   "metadata": {},
   "outputs": [
    {
     "data": {
      "text/html": [
       "<div>\n",
       "<style scoped>\n",
       "    .dataframe tbody tr th:only-of-type {\n",
       "        vertical-align: middle;\n",
       "    }\n",
       "\n",
       "    .dataframe tbody tr th {\n",
       "        vertical-align: top;\n",
       "    }\n",
       "\n",
       "    .dataframe thead th {\n",
       "        text-align: right;\n",
       "    }\n",
       "</style>\n",
       "<table border=\"1\" class=\"dataframe\">\n",
       "  <thead>\n",
       "    <tr style=\"text-align: right;\">\n",
       "      <th></th>\n",
       "      <th>Path</th>\n",
       "      <th>Seq</th>\n",
       "      <th>Length</th>\n",
       "    </tr>\n",
       "  </thead>\n",
       "  <tbody>\n",
       "    <tr>\n",
       "      <th>0</th>\n",
       "      <td>../data/96_res\\006_Uwa!!_So_Temperate.mid</td>\n",
       "      <td>[G#3, G6, G#3, G6, G#3, G6, C4, F6, C4, F6, C4...</td>\n",
       "      <td>2083</td>\n",
       "    </tr>\n",
       "    <tr>\n",
       "      <th>1</th>\n",
       "      <td>../data/96_res\\007_Anticipation.mid</td>\n",
       "      <td>[6.7.9.11, G2, 6.7.11, G2, 6.7.11, G2, 6.7.11,...</td>\n",
       "      <td>145</td>\n",
       "    </tr>\n",
       "    <tr>\n",
       "      <th>2</th>\n",
       "      <td>../data/96_res\\008_Unnecessary_Tension.mid</td>\n",
       "      <td>[1.2, 1.6, 1.2.6, 1, 1.6, 1.7, 1, 1, 6.9.1, 1,...</td>\n",
       "      <td>86</td>\n",
       "    </tr>\n",
       "    <tr>\n",
       "      <th>3</th>\n",
       "      <td>../data/96_res\\018_Uwa!!_So_Holiday.mid</td>\n",
       "      <td>[9.1.2, 5.9, 5.9, 5.9, 5.9, C5, 5.9, 5.9, 5, 9...</td>\n",
       "      <td>218</td>\n",
       "    </tr>\n",
       "    <tr>\n",
       "      <th>4</th>\n",
       "      <td>../data/96_res\\025_Dating_Start!.mid</td>\n",
       "      <td>[10.11.0.1.3, 3.5.7.10, 11.0.2.4.6.8, 3.5.7.10...</td>\n",
       "      <td>783</td>\n",
       "    </tr>\n",
       "    <tr>\n",
       "      <th>...</th>\n",
       "      <td>...</td>\n",
       "      <td>...</td>\n",
       "      <td>...</td>\n",
       "    </tr>\n",
       "    <tr>\n",
       "      <th>143</th>\n",
       "      <td>../data/96_res\\Undertale_-_Waterfall.mid</td>\n",
       "      <td>[E5, E5, B5, B5, F#6, F#6, D6, D6, E6, E6, B5,...</td>\n",
       "      <td>1948</td>\n",
       "    </tr>\n",
       "    <tr>\n",
       "      <th>144</th>\n",
       "      <td>../data/96_res\\Undertale_-_Wrong_Enemy.mid</td>\n",
       "      <td>[A2, A2, 4.9, 4.9, 8.9, 4.9, 11.4, 11.4, 1.4.7...</td>\n",
       "      <td>1784</td>\n",
       "    </tr>\n",
       "    <tr>\n",
       "      <th>145</th>\n",
       "      <td>../data/96_res\\Undertale_-_Your_Best_Friend.mid</td>\n",
       "      <td>[G#4, G#4, C5, C5, E-4, E-4, C5, C5, G#4, G#4,...</td>\n",
       "      <td>308</td>\n",
       "    </tr>\n",
       "    <tr>\n",
       "      <th>146</th>\n",
       "      <td>../data/96_res\\Undertale_-_Your_Best_Nightmare...</td>\n",
       "      <td>[4.5.10, 4.5.10, 4.5.10, 4.5.10, 4.5.10, 4.5.1...</td>\n",
       "      <td>4146</td>\n",
       "    </tr>\n",
       "    <tr>\n",
       "      <th>147</th>\n",
       "      <td>../data/96_res\\Undertale_-_You_Idiot.mid</td>\n",
       "      <td>[4.10, F2, 10, 4.5.10, 10, 4.10, 5.10, B-2, B-...</td>\n",
       "      <td>1145</td>\n",
       "    </tr>\n",
       "  </tbody>\n",
       "</table>\n",
       "<p>148 rows × 3 columns</p>\n",
       "</div>"
      ],
      "text/plain": [
       "                                                  Path  \\\n",
       "0            ../data/96_res\\006_Uwa!!_So_Temperate.mid   \n",
       "1                  ../data/96_res\\007_Anticipation.mid   \n",
       "2           ../data/96_res\\008_Unnecessary_Tension.mid   \n",
       "3              ../data/96_res\\018_Uwa!!_So_Holiday.mid   \n",
       "4                 ../data/96_res\\025_Dating_Start!.mid   \n",
       "..                                                 ...   \n",
       "143           ../data/96_res\\Undertale_-_Waterfall.mid   \n",
       "144         ../data/96_res\\Undertale_-_Wrong_Enemy.mid   \n",
       "145    ../data/96_res\\Undertale_-_Your_Best_Friend.mid   \n",
       "146  ../data/96_res\\Undertale_-_Your_Best_Nightmare...   \n",
       "147           ../data/96_res\\Undertale_-_You_Idiot.mid   \n",
       "\n",
       "                                                   Seq  Length  \n",
       "0    [G#3, G6, G#3, G6, G#3, G6, C4, F6, C4, F6, C4...    2083  \n",
       "1    [6.7.9.11, G2, 6.7.11, G2, 6.7.11, G2, 6.7.11,...     145  \n",
       "2    [1.2, 1.6, 1.2.6, 1, 1.6, 1.7, 1, 1, 6.9.1, 1,...      86  \n",
       "3    [9.1.2, 5.9, 5.9, 5.9, 5.9, C5, 5.9, 5.9, 5, 9...     218  \n",
       "4    [10.11.0.1.3, 3.5.7.10, 11.0.2.4.6.8, 3.5.7.10...     783  \n",
       "..                                                 ...     ...  \n",
       "143  [E5, E5, B5, B5, F#6, F#6, D6, D6, E6, E6, B5,...    1948  \n",
       "144  [A2, A2, 4.9, 4.9, 8.9, 4.9, 11.4, 11.4, 1.4.7...    1784  \n",
       "145  [G#4, G#4, C5, C5, E-4, E-4, C5, C5, G#4, G#4,...     308  \n",
       "146  [4.5.10, 4.5.10, 4.5.10, 4.5.10, 4.5.10, 4.5.1...    4146  \n",
       "147  [4.10, F2, 10, 4.5.10, 10, 4.10, 5.10, B-2, B-...    1145  \n",
       "\n",
       "[148 rows x 3 columns]"
      ]
     },
     "execution_count": 23,
     "metadata": {},
     "output_type": "execute_result"
    }
   ],
   "source": [
    "### plot sequence length\n",
    "\n",
    "seq_list = []\n",
    "path_list = []\n",
    "length_list = []\n",
    "for key, value in dataset.items():\n",
    "    seq_list.append(value)\n",
    "    path_list.append(key)\n",
    "    length_list.append(len(value))\n",
    "\n",
    "\n",
    "\n",
    "df = pd.DataFrame({\"Path\" : path_list, \"Seq\" : seq_list, \"Length\" : length_list})\n",
    "\n",
    "df"
   ]
  },
  {
   "cell_type": "code",
   "execution_count": 24,
   "metadata": {},
   "outputs": [
    {
     "data": {
      "text/plain": [
       "<AxesSubplot:xlabel='Length'>"
      ]
     },
     "execution_count": 24,
     "metadata": {},
     "output_type": "execute_result"
    },
    {
     "data": {
      "image/png": "[encoded data removed]",
      "text/plain": [
       "<Figure size 432x288 with 1 Axes>"
      ]
     },
     "metadata": {
      "image/png": {
       "height": 261,
       "width": 352
      },
      "needs_background": "light"
     },
     "output_type": "display_data"
    }
   ],
   "source": [
    "sns.violinplot(data=df, x=\"Length\")"
   ]
  },
  {
   "cell_type": "code",
   "execution_count": 25,
   "metadata": {},
   "outputs": [
    {
     "name": "stdout",
     "output_type": "stream",
     "text": [
      "1140\n"
     ]
    },
    {
     "data": {
      "image/png": "[encoded data removed]",
      "text/plain": [
       "<Figure size 432x288 with 1 Axes>"
      ]
     },
     "metadata": {
      "image/png": {
       "height": 261,
       "width": 381
      },
      "needs_background": "light"
     },
     "output_type": "display_data"
    }
   ],
   "source": [
    "## get note frequencies\n",
    "\n",
    "notes = []\n",
    "for indx, (path, seq, length) in df.iterrows():\n",
    "    notes.extend(seq)\n",
    "\n",
    "unique_notes = set(notes)\n",
    "\n",
    "print(len(unique_notes))\n",
    "\n",
    "### counter\n",
    "\n",
    "count_notes = dict()\n",
    "\n",
    "for note in notes:\n",
    "\n",
    "    if note in count_notes.keys():\n",
    "\n",
    "        count_notes[note] += 1\n",
    "\n",
    "    else:\n",
    "\n",
    "        count_notes[note] = 1\n",
    "\n",
    "sorted_count = {k : v for k, v in sorted(count_notes.items(), key = lambda x: x[1], reverse=True)}\n",
    "\n",
    "\n",
    "g = sns.barplot(x=list(sorted_count.keys())[:20], y=list(sorted_count.values())[:20])\n",
    "plt.xticks(rotation=45)\n",
    "plt.show()"
   ]
  },
  {
   "cell_type": "code",
   "execution_count": 26,
   "metadata": {},
   "outputs": [
    {
     "data": {
      "text/html": [
       "<div>\n",
       "<style scoped>\n",
       "    .dataframe tbody tr th:only-of-type {\n",
       "        vertical-align: middle;\n",
       "    }\n",
       "\n",
       "    .dataframe tbody tr th {\n",
       "        vertical-align: top;\n",
       "    }\n",
       "\n",
       "    .dataframe thead th {\n",
       "        text-align: right;\n",
       "    }\n",
       "</style>\n",
       "<table border=\"1\" class=\"dataframe\">\n",
       "  <thead>\n",
       "    <tr style=\"text-align: right;\">\n",
       "      <th></th>\n",
       "      <th>Length</th>\n",
       "    </tr>\n",
       "  </thead>\n",
       "  <tbody>\n",
       "    <tr>\n",
       "      <th>count</th>\n",
       "      <td>148.000000</td>\n",
       "    </tr>\n",
       "    <tr>\n",
       "      <th>mean</th>\n",
       "      <td>1588.574324</td>\n",
       "    </tr>\n",
       "    <tr>\n",
       "      <th>std</th>\n",
       "      <td>3281.313079</td>\n",
       "    </tr>\n",
       "    <tr>\n",
       "      <th>min</th>\n",
       "      <td>14.000000</td>\n",
       "    </tr>\n",
       "    <tr>\n",
       "      <th>25%</th>\n",
       "      <td>312.500000</td>\n",
       "    </tr>\n",
       "    <tr>\n",
       "      <th>50%</th>\n",
       "      <td>913.500000</td>\n",
       "    </tr>\n",
       "    <tr>\n",
       "      <th>75%</th>\n",
       "      <td>1871.500000</td>\n",
       "    </tr>\n",
       "    <tr>\n",
       "      <th>max</th>\n",
       "      <td>30339.000000</td>\n",
       "    </tr>\n",
       "  </tbody>\n",
       "</table>\n",
       "</div>"
      ],
      "text/plain": [
       "             Length\n",
       "count    148.000000\n",
       "mean    1588.574324\n",
       "std     3281.313079\n",
       "min       14.000000\n",
       "25%      312.500000\n",
       "50%      913.500000\n",
       "75%     1871.500000\n",
       "max    30339.000000"
      ]
     },
     "execution_count": 26,
     "metadata": {},
     "output_type": "execute_result"
    }
   ],
   "source": [
    "df.describe()\n",
    "\n",
    "# -> min length is 14 -> window_size = 14\n",
    "# เลือกความยาวของ sequence มาตรฐานตามความยาวของข้อมูลที่สั่นที่สุดที่ยังเป็นเพลง (ในที่นี้คือความยาว 14 โน๊ต)"
   ]
  },
  {
   "cell_type": "markdown",
   "metadata": {},
   "source": [
    "# การเตรียมข้อมูลสำหรับโมเดลประเภท Teacher Forcing (ต่อ)"
   ]
  },
  {
   "cell_type": "code",
   "execution_count": 27,
   "metadata": {},
   "outputs": [],
   "source": [
    "df[\"num_windows\"] = df[\"Length\"].apply(lambda x: x // 14)\n",
    "df[\"last_note\"] = df[\"Length\"].apply(lambda x: 14 * (x // 14))\n",
    "df[\"indx\"] = df[\"Length\"].apply(lambda x: 14 * np.arange((x // 14) + 1))\n",
    "df[\"indx_\"] = df[\"indx\"].apply(lambda x: np.lib.stride_tricks.sliding_window_view(x, 2))"
   ]
  },
  {
   "cell_type": "code",
   "execution_count": 28,
   "metadata": {},
   "outputs": [
    {
     "data": {
      "text/plain": [
       "0      [[0, 14], [14, 28], [28, 42], [42, 56], [56, 7...\n",
       "1      [[0, 14], [14, 28], [28, 42], [42, 56], [56, 7...\n",
       "2      [[0, 14], [14, 28], [28, 42], [42, 56], [56, 7...\n",
       "3      [[0, 14], [14, 28], [28, 42], [42, 56], [56, 7...\n",
       "4      [[0, 14], [14, 28], [28, 42], [42, 56], [56, 7...\n",
       "                             ...                        \n",
       "143    [[0, 14], [14, 28], [28, 42], [42, 56], [56, 7...\n",
       "144    [[0, 14], [14, 28], [28, 42], [42, 56], [56, 7...\n",
       "145    [[0, 14], [14, 28], [28, 42], [42, 56], [56, 7...\n",
       "146    [[0, 14], [14, 28], [28, 42], [42, 56], [56, 7...\n",
       "147    [[0, 14], [14, 28], [28, 42], [42, 56], [56, 7...\n",
       "Name: indx_, Length: 148, dtype: object"
      ]
     },
     "execution_count": 28,
     "metadata": {},
     "output_type": "execute_result"
    }
   ],
   "source": [
    "df[\"indx_\"] # ลำดับของตัวโน๊ตที่ต้องตัด"
   ]
  },
  {
   "cell_type": "code",
   "execution_count": 29,
   "metadata": {},
   "outputs": [
    {
     "data": {
      "text/html": [
       "<div>\n",
       "<style scoped>\n",
       "    .dataframe tbody tr th:only-of-type {\n",
       "        vertical-align: middle;\n",
       "    }\n",
       "\n",
       "    .dataframe tbody tr th {\n",
       "        vertical-align: top;\n",
       "    }\n",
       "\n",
       "    .dataframe thead th {\n",
       "        text-align: right;\n",
       "    }\n",
       "</style>\n",
       "<table border=\"1\" class=\"dataframe\">\n",
       "  <thead>\n",
       "    <tr style=\"text-align: right;\">\n",
       "      <th></th>\n",
       "      <th>num_windows</th>\n",
       "    </tr>\n",
       "  </thead>\n",
       "  <tbody>\n",
       "    <tr>\n",
       "      <th>count</th>\n",
       "      <td>148.00000</td>\n",
       "    </tr>\n",
       "    <tr>\n",
       "      <th>mean</th>\n",
       "      <td>113.02027</td>\n",
       "    </tr>\n",
       "    <tr>\n",
       "      <th>std</th>\n",
       "      <td>234.37163</td>\n",
       "    </tr>\n",
       "    <tr>\n",
       "      <th>min</th>\n",
       "      <td>1.00000</td>\n",
       "    </tr>\n",
       "    <tr>\n",
       "      <th>25%</th>\n",
       "      <td>22.00000</td>\n",
       "    </tr>\n",
       "    <tr>\n",
       "      <th>50%</th>\n",
       "      <td>64.50000</td>\n",
       "    </tr>\n",
       "    <tr>\n",
       "      <th>75%</th>\n",
       "      <td>133.25000</td>\n",
       "    </tr>\n",
       "    <tr>\n",
       "      <th>max</th>\n",
       "      <td>2167.00000</td>\n",
       "    </tr>\n",
       "  </tbody>\n",
       "</table>\n",
       "</div>"
      ],
      "text/plain": [
       "       num_windows\n",
       "count    148.00000\n",
       "mean     113.02027\n",
       "std      234.37163\n",
       "min        1.00000\n",
       "25%       22.00000\n",
       "50%       64.50000\n",
       "75%      133.25000\n",
       "max     2167.00000"
      ]
     },
     "execution_count": 29,
     "metadata": {},
     "output_type": "execute_result"
    }
   ],
   "source": [
    "df[[\"num_windows\"]].describe() # ตรวจสอบว่า min เป็น 1"
   ]
  },
  {
   "cell_type": "code",
   "execution_count": 30,
   "metadata": {},
   "outputs": [],
   "source": [
    "# function ตัด sequence จากคู่ของ index\n",
    "def slice_seq(seq, indx):\n",
    "    sliced = []\n",
    "    for index in list(indx):\n",
    "        sliced.append(seq[index[0]: index[1]])\n",
    "\n",
    "    return sliced"
   ]
  },
  {
   "cell_type": "code",
   "execution_count": 31,
   "metadata": {},
   "outputs": [],
   "source": [
    "# function ที่จะ apply กับ DataFrame ตามแถว\n",
    "def indxwise_slice(row):\n",
    "\n",
    "    return slice_seq(row[\"Seq\"], row[\"indx_\"])"
   ]
  },
  {
   "cell_type": "code",
   "execution_count": 32,
   "metadata": {},
   "outputs": [],
   "source": [
    "# apply function ตามแถว\n",
    "df[\"Data\"] = df.apply(lambda row : indxwise_slice(row), axis=1)"
   ]
  },
  {
   "cell_type": "code",
   "execution_count": 33,
   "metadata": {},
   "outputs": [],
   "source": [
    "df_output = df[[\"Path\", \"Data\"]]\n",
    "df_output.to_pickle(\"../data/dataset_undertale_preprocessed.pkl\")"
   ]
  },
  {
   "cell_type": "code",
   "execution_count": 34,
   "metadata": {},
   "outputs": [],
   "source": [
    "# เก็บ dataset สำรองไว้เป็น list ใน pickle\n",
    "all_data = []\n",
    "\n",
    "for indx, seq in zip(list(df[\"indx_\"]), list(df[\"Seq\"])):\n",
    "    for index in list(indx):\n",
    "        all_data.append(seq[index[0]: index[1]])\n",
    "\n",
    "\n",
    "    all_data.append"
   ]
  },
  {
   "cell_type": "code",
   "execution_count": 35,
   "metadata": {},
   "outputs": [],
   "source": [
    "with open(\"../data/all_undertale_unique_notes.pkl\", \"wb\") as f:\n",
    "\n",
    "    pickle.dump(list(unique_notes), f)"
   ]
  },
  {
   "cell_type": "code",
   "execution_count": 36,
   "metadata": {},
   "outputs": [],
   "source": [
    "with open(\"../data/all_undertale_teacher_forcing_notes.pkl\", \"wb\") as f:\n",
    "\n",
    "    pickle.dump(list(all_data), f)"
   ]
  },
  {
   "cell_type": "markdown",
   "metadata": {},
   "source": [
    "# เรามาลองฟังเพลงจาก note sequence กันเถอะ!"
   ]
  },
  {
   "cell_type": "code",
   "execution_count": null,
   "metadata": {},
   "outputs": [],
   "source": [
    "### utils function that writes .midi files\n",
    "\n",
    "def create_midi(prediction_output, filename):\n",
    "    from music21 import note, chord, instrument, stream\n",
    "    offset = 0\n",
    "    output_notes = []\n",
    "\n",
    "        # create note and chord objects based on the values generated by the model\n",
    "    for pattern in prediction_output:\n",
    "            # pattern is a chord\n",
    "        if ('.' in pattern) or pattern.isdigit():\n",
    "            notes_in_chord = pattern.split('.')\n",
    "            notes = []\n",
    "            for current_note in notes_in_chord:\n",
    "                new_note = note.Note(int(current_note))\n",
    "                new_note.storedInstrument = instrument.Piano()\n",
    "                notes.append(new_note)\n",
    "            new_chord = chord.Chord(notes)\n",
    "            new_chord.offset = offset\n",
    "            output_notes.append(new_chord)\n",
    "            # pattern is a note\n",
    "        else:\n",
    "            new_note = note.Note(pattern)\n",
    "            new_note.offset = offset\n",
    "            new_note.storedInstrument = instrument.Piano()\n",
    "            output_notes.append(new_note)\n",
    "\n",
    "            # increase offset each iteration so that notes do not stack\n",
    "        offset += 0.25\n",
    "\n",
    "    midi_stream = stream.Stream(output_notes)\n",
    "\n",
    "    midi_stream.write(\"midi\", fp=filename)\n",
    "    return midi_stream"
   ]
  },
  {
   "cell_type": "code",
   "execution_count": null,
   "metadata": {},
   "outputs": [],
   "source": [
    "import random\n",
    "for i, q in enumerate(random.choices(range(len(all_data) - 37), k=10)):\n",
    "    midi_stream = create_midi(np.concatenate([np.array(seq) for seq in all_data[q:q+37]], axis=-1), f\"ground_truth_{i+1}.mid\")"
   ]
  }
 ],
 "metadata": {
  "kernelspec": {
   "display_name": "Python 3.9.9 64-bit",
   "language": "python",
   "name": "python3"
  },
  "language_info": {
   "codemirror_mode": {
    "name": "ipython",
    "version": 3
   },
   "file_extension": ".py",
   "mimetype": "text/x-python",
   "name": "python",
   "nbconvert_exporter": "python",
   "pygments_lexer": "ipython3",
   "version": "3.9.9"
  },
  "orig_nbformat": 4,
  "vscode": {
   "interpreter": {
    "hash": "14958d3aee5f1cad06795f787e54b96185c25fb40dfec723a5be941f3a531b8c"
   }
  }
 },
 "nbformat": 4,
 "nbformat_minor": 2
}
