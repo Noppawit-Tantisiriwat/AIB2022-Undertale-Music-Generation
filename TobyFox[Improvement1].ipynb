{
 "cells": [
  {
   "cell_type": "code",
   "execution_count": 1,
   "metadata": {},
   "outputs": [
    {
     "name": "stdout",
     "output_type": "stream",
     "text": [
      "Requirement already satisfied: music21 in c:\\users\\asus\\appdata\\local\\programs\\python\\python39\\lib\\site-packages (7.3.3)\n",
      "Requirement already satisfied: matplotlib in c:\\users\\asus\\appdata\\local\\programs\\python\\python39\\lib\\site-packages (from music21) (3.5.2)\n",
      "Requirement already satisfied: more-itertools in c:\\users\\asus\\appdata\\local\\programs\\python\\python39\\lib\\site-packages (from music21) (8.13.0)\n",
      "Requirement already satisfied: numpy in c:\\users\\asus\\appdata\\local\\programs\\python\\python39\\lib\\site-packages (from music21) (1.21.6)\n",
      "Requirement already satisfied: jsonpickle in c:\\users\\asus\\appdata\\local\\programs\\python\\python39\\lib\\site-packages (from music21) (2.2.0)\n",
      "Requirement already satisfied: webcolors>=1.5 in c:\\users\\asus\\appdata\\local\\programs\\python\\python39\\lib\\site-packages (from music21) (1.11.1)\n",
      "Requirement already satisfied: chardet in c:\\users\\asus\\appdata\\local\\programs\\python\\python39\\lib\\site-packages (from music21) (4.0.0)\n",
      "Requirement already satisfied: joblib in c:\\users\\asus\\appdata\\local\\programs\\python\\python39\\lib\\site-packages (from music21) (1.1.0)\n",
      "Requirement already satisfied: kiwisolver>=1.0.1 in c:\\users\\asus\\appdata\\local\\programs\\python\\python39\\lib\\site-packages (from matplotlib->music21) (1.4.2)\n",
      "Requirement already satisfied: python-dateutil>=2.7 in c:\\users\\asus\\appdata\\local\\programs\\python\\python39\\lib\\site-packages (from matplotlib->music21) (2.8.2)\n",
      "Requirement already satisfied: pillow>=6.2.0 in c:\\users\\asus\\appdata\\local\\programs\\python\\python39\\lib\\site-packages (from matplotlib->music21) (9.1.0)\n",
      "Requirement already satisfied: cycler>=0.10 in c:\\users\\asus\\appdata\\local\\programs\\python\\python39\\lib\\site-packages (from matplotlib->music21) (0.11.0)\n",
      "Requirement already satisfied: fonttools>=4.22.0 in c:\\users\\asus\\appdata\\local\\programs\\python\\python39\\lib\\site-packages (from matplotlib->music21) (4.33.3)\n",
      "Requirement already satisfied: packaging>=20.0 in c:\\users\\asus\\appdata\\local\\programs\\python\\python39\\lib\\site-packages (from matplotlib->music21) (21.3)\n",
      "Requirement already satisfied: pyparsing>=2.2.1 in c:\\users\\asus\\appdata\\local\\programs\\python\\python39\\lib\\site-packages (from matplotlib->music21) (3.0.9)\n",
      "Requirement already satisfied: six>=1.5 in c:\\users\\asus\\appdata\\local\\programs\\python\\python39\\lib\\site-packages (from python-dateutil>=2.7->matplotlib->music21) (1.16.0)\n"
     ]
    },
    {
     "name": "stderr",
     "output_type": "stream",
     "text": [
      "WARNING: Ignoring invalid distribution -rotobuf (c:\\users\\asus\\appdata\\local\\programs\\python\\python39\\lib\\site-packages)\n",
      "WARNING: Ignoring invalid distribution -rotobuf (c:\\users\\asus\\appdata\\local\\programs\\python\\python39\\lib\\site-packages)\n",
      "WARNING: Ignoring invalid distribution -rotobuf (c:\\users\\asus\\appdata\\local\\programs\\python\\python39\\lib\\site-packages)\n",
      "WARNING: Ignoring invalid distribution -rotobuf (c:\\users\\asus\\appdata\\local\\programs\\python\\python39\\lib\\site-packages)\n",
      "WARNING: Ignoring invalid distribution -rotobuf (c:\\users\\asus\\appdata\\local\\programs\\python\\python39\\lib\\site-packages)\n",
      "WARNING: Ignoring invalid distribution -rotobuf (c:\\users\\asus\\appdata\\local\\programs\\python\\python39\\lib\\site-packages)\n",
      "WARNING: There was an error checking the latest version of pip.\n"
     ]
    },
    {
     "name": "stdout",
     "output_type": "stream",
     "text": [
      "Collecting np_utils\n",
      "  Downloading np_utils-0.6.0.tar.gz (61 kB)\n",
      "     -------------------------------------- 62.0/62.0 kB 821.4 kB/s eta 0:00:00\n",
      "  Preparing metadata (setup.py): started\n",
      "  Preparing metadata (setup.py): finished with status 'done'\n",
      "Requirement already satisfied: numpy>=1.0 in c:\\users\\asus\\appdata\\local\\programs\\python\\python39\\lib\\site-packages (from np_utils) (1.21.6)\n",
      "Building wheels for collected packages: np_utils\n",
      "  Building wheel for np_utils (setup.py): started\n",
      "  Building wheel for np_utils (setup.py): finished with status 'done'\n",
      "  Created wheel for np_utils: filename=np_utils-0.6.0-py3-none-any.whl size=56459 sha256=6675c27ea3ec0d25a47c3e5585e3f3dac885ef0529a62750c0f99159c77c6033\n",
      "  Stored in directory: c:\\users\\asus\\appdata\\local\\pip\\cache\\wheels\\65\\07\\4b\\1c96f437e1bec60b3d2acd0b81d0a7969505f5251efbb5a060\n",
      "Successfully built np_utils\n",
      "Installing collected packages: np_utils\n",
      "Successfully installed np_utils-0.6.0\n"
     ]
    },
    {
     "name": "stderr",
     "output_type": "stream",
     "text": [
      "WARNING: Ignoring invalid distribution -rotobuf (c:\\users\\asus\\appdata\\local\\programs\\python\\python39\\lib\\site-packages)\n",
      "WARNING: Ignoring invalid distribution -rotobuf (c:\\users\\asus\\appdata\\local\\programs\\python\\python39\\lib\\site-packages)\n",
      "WARNING: Ignoring invalid distribution -rotobuf (c:\\users\\asus\\appdata\\local\\programs\\python\\python39\\lib\\site-packages)\n",
      "WARNING: Ignoring invalid distribution -rotobuf (c:\\users\\asus\\appdata\\local\\programs\\python\\python39\\lib\\site-packages)\n",
      "WARNING: Ignoring invalid distribution -rotobuf (c:\\users\\asus\\appdata\\local\\programs\\python\\python39\\lib\\site-packages)\n",
      "WARNING: Ignoring invalid distribution -rotobuf (c:\\users\\asus\\appdata\\local\\programs\\python\\python39\\lib\\site-packages)\n",
      "WARNING: Ignoring invalid distribution -rotobuf (c:\\users\\asus\\appdata\\local\\programs\\python\\python39\\lib\\site-packages)\n",
      "WARNING: There was an error checking the latest version of pip.\n"
     ]
    }
   ],
   "source": [
    "! pip install music21\n",
    "! pip install np_utils"
   ]
  },
  {
   "cell_type": "code",
   "execution_count": 1,
   "metadata": {},
   "outputs": [],
   "source": [
    "import torch\n",
    "import glob\n",
    "import pickle\n",
    "import numpy as np\n",
    "from music21 import converter, instrument, note, chord\n",
    "from tqdm import tqdm"
   ]
  },
  {
   "cell_type": "code",
   "execution_count": 2,
   "metadata": {},
   "outputs": [],
   "source": [
    "import torch \n",
    "import torch.nn as nn\n",
    "import torch.nn.functional as F\n",
    "from torch.utils.data import DataLoader, Dataset, random_split\n",
    "\n",
    "from tqdm import tqdm\n",
    "\n",
    "import numpy as np\n",
    "import csv\n",
    "\n",
    "import os\n",
    "import os.path as op\n",
    "\n",
    "import random \n",
    "import math\n",
    "\n",
    "from typing import List\n",
    "from sklearn.model_selection import train_test_split"
   ]
  },
  {
   "cell_type": "code",
   "execution_count": 3,
   "metadata": {},
   "outputs": [],
   "source": [
    "device = torch.device(\"cuda\")"
   ]
  },
  {
   "cell_type": "code",
   "execution_count": 4,
   "metadata": {},
   "outputs": [],
   "source": [
    "class Undertale(Dataset):\n",
    "\n",
    "    def __init__(self, pkl_path , sequence_length, use_embedding=True, subset=None):\n",
    "        super().__init__()\n",
    "        self.pkl_path = pkl_path\n",
    "        self.sequence_length = sequence_length\n",
    "        self.use_embedding = use_embedding\n",
    "        self.subset = subset\n",
    "\n",
    "        with open(pkl_path, 'rb')as f:\n",
    "            self.notes = pickle.load(f)\n",
    "        if subset:\n",
    "            self.notes = self.notes[:subset]\n",
    "        \n",
    "        self.n = len(set(self.notes))\n",
    "        self.pitchnames = sorted(set(item for item in self.notes))\n",
    "        self.note_to_int = dict((note,number) for number, note in enumerate(self.pitchnames))\n",
    "\n",
    "        data = []\n",
    "        label = []\n",
    "\n",
    "        for i in range(0, len(self.notes) - sequence_length, 1):\n",
    "            sequence_in = self.notes[i:i + sequence_length]\n",
    "            sequence_out = self.notes[i + sequence_length]\n",
    "            data.append([self.note_to_int[char] for char in sequence_in])\n",
    "            label.append(self.note_to_int[sequence_out])\n",
    "\n",
    "        n_patterns = len(data)\n",
    "\n",
    "        self.data = torch.tensor(np.reshape(data, (n_patterns, sequence_length,1)))\n",
    "        self.label = label\n",
    "    def __len__(self):\n",
    "        return len(self.data)\n",
    "\n",
    "    def __getitem__(self, index):\n",
    "\n",
    "        x, y = self.data[index], self.label[index]\n",
    "\n",
    "        if self.use_embedding:\n",
    "            return x, y\n",
    "        else:\n",
    "            x = x/float(self.n)\n",
    "            return x, y"
   ]
  },
  {
   "cell_type": "code",
   "execution_count": 5,
   "metadata": {},
   "outputs": [],
   "source": [
    "all_ds = Undertale(\"../data/notes_final.pkl\",sequence_length=100,use_embedding=True)"
   ]
  },
  {
   "cell_type": "code",
   "execution_count": 6,
   "metadata": {},
   "outputs": [],
   "source": [
    "train_ds, test_val_ds = train_test_split(all_ds,test_size=0.2) # apply train_test_split from sklearn to \"all_ds\"\n",
    "val_ds, test_ds = train_test_split(test_val_ds,test_size=0.5) # apply train_test_split from sklearn to \"test_val_ds\""
   ]
  },
  {
   "cell_type": "code",
   "execution_count": 7,
   "metadata": {},
   "outputs": [],
   "source": [
    "trainloader = DataLoader(train_ds,batch_size=128,shuffle=True)\n",
    "valloader = DataLoader(val_ds,batch_size=128,shuffle=False)\n",
    "testloader = DataLoader(test_ds,batch_size=128,shuffle=True)"
   ]
  },
  {
   "cell_type": "code",
   "execution_count": 8,
   "metadata": {},
   "outputs": [],
   "source": [
    "class TobyFox(nn.Module):\n",
    "    def __init__(self,hidden_size=256,possible_notes=1140,embedding_dim=50):\n",
    "        super().__init__()\n",
    "        self.hidden_size = hidden_size\n",
    "        self.possible_notes = possible_notes\n",
    "        self.embedding_dim = embedding_dim\n",
    "        self.embedding = nn.Embedding(self.possible_notes,embedding_dim)\n",
    "        self.rnn = nn.LSTM(input_size = embedding_dim, hidden_size=hidden_size ,batch_first=True)\n",
    "        self.output = torch.nn.Linear(in_features=hidden_size, out_features=possible_notes, bias=True, device=None, dtype=None)\n",
    "\n",
    "    def init_hidden(self, size):\n",
    "        return (torch.zeros(1, self.batch, size).to(device), torch.zeros(1, self.batch, size).to(device))\n",
    "\n",
    "    def forward(self,x):\n",
    "\n",
    "        self.batch = x.shape[0]\n",
    "\n",
    "        h0, c0 = self.init_hidden(self.hidden_size)\n",
    "\n",
    "        x = self.embedding(x)\n",
    "\n",
    "        x = torch.squeeze(x, dim=-2)\n",
    "\n",
    "        o1, (h1, c1) = self.rnn(x, (h0, c0))\n",
    "\n",
    "        x = self.output(h1.view(self.batch, self.hidden_size))\n",
    "\n",
    "\n",
    "        return x, (h1, c1)\n",
    "        "
   ]
  },
  {
   "cell_type": "code",
   "execution_count": 9,
   "metadata": {},
   "outputs": [],
   "source": [
    "test = train_ds[0][0].view(1, -1)"
   ]
  },
  {
   "cell_type": "code",
   "execution_count": 10,
   "metadata": {},
   "outputs": [
    {
     "data": {
      "text/plain": [
       "tensor([[1099,  922, 1127, 1099,  922, 1099,  922, 1077,  922, 1077,  922, 1077,\n",
       "         1056,  169, 1056,  169, 1063,  169, 1063, 1070,   82, 1070,   82, 1084,\n",
       "           82, 1084, 1056,  655, 1056,  655,  655, 1106,  655, 1106, 1092,  655,\n",
       "         1092, 1127,  563, 1127,  563, 1099,  563, 1099,  563, 1077,  563, 1077,\n",
       "         1056,  822, 1056,  822,  822, 1070,  822, 1070, 1127,  719, 1127,  719,\n",
       "         1063,  719, 1063, 1056,  655, 1056,  655, 1106,  655, 1106, 1092,  655,\n",
       "         1092, 1127,  563,  655, 1127,  563, 1099,  563, 1099, 1077,  563, 1077,\n",
       "         1056,  822, 1056,  822, 1063,  822, 1063, 1070,  719, 1070,  719, 1084,\n",
       "          719, 1084,  719, 1056]], dtype=torch.int32)"
      ]
     },
     "execution_count": 10,
     "metadata": {},
     "output_type": "execute_result"
    }
   ],
   "source": [
    "test"
   ]
  },
  {
   "cell_type": "code",
   "execution_count": 12,
   "metadata": {},
   "outputs": [],
   "source": [
    "model = TobyFox(hidden_size=256,possible_notes=all_ds.n,embedding_dim=50).to(device)"
   ]
  },
  {
   "cell_type": "code",
   "execution_count": 11,
   "metadata": {},
   "outputs": [
    {
     "data": {
      "text/plain": [
       "1140"
      ]
     },
     "execution_count": 11,
     "metadata": {},
     "output_type": "execute_result"
    }
   ],
   "source": [
    "all_ds.n"
   ]
  },
  {
   "cell_type": "code",
   "execution_count": 14,
   "metadata": {},
   "outputs": [
    {
     "data": {
      "text/plain": [
       "TobyFox(\n",
       "  (embedding): Embedding(1140, 50)\n",
       "  (rnn): LSTM(50, 256, batch_first=True)\n",
       "  (output): Linear(in_features=256, out_features=1140, bias=True)\n",
       ")"
      ]
     },
     "execution_count": 14,
     "metadata": {},
     "output_type": "execute_result"
    }
   ],
   "source": [
    "model"
   ]
  },
  {
   "cell_type": "code",
   "execution_count": 15,
   "metadata": {},
   "outputs": [],
   "source": [
    "loss_function = torch.nn.CrossEntropyLoss()"
   ]
  },
  {
   "cell_type": "code",
   "execution_count": 16,
   "metadata": {},
   "outputs": [],
   "source": [
    "optimizer = torch.optim.Adam(model.parameters(), lr=1e-3)"
   ]
  },
  {
   "cell_type": "code",
   "execution_count": 17,
   "metadata": {},
   "outputs": [],
   "source": [
    "epochs = 50"
   ]
  },
  {
   "cell_type": "code",
   "execution_count": 18,
   "metadata": {},
   "outputs": [
    {
     "name": "stderr",
     "output_type": "stream",
     "text": [
      "Epoch - 1 / 50: 100%|██████████| 1469/1469 [00:15<00:00, 93.61it/s, loss=3.21] \n"
     ]
    },
    {
     "name": "stdout",
     "output_type": "stream",
     "text": [
      "Average CrossEntropyLoss of Epoch 1 : 3.8606702415848555\n",
      "Validation of Epoch 1 : 30.88519765582928\n"
     ]
    },
    {
     "name": "stderr",
     "output_type": "stream",
     "text": [
      "Epoch - 2 / 50: 100%|██████████| 1469/1469 [00:14<00:00, 102.15it/s, loss=2.67]\n"
     ]
    },
    {
     "name": "stdout",
     "output_type": "stream",
     "text": [
      "Average CrossEntropyLoss of Epoch 2 : 2.744444346383152\n",
      "Validation of Epoch 2 : 21.955437991168772\n"
     ]
    },
    {
     "name": "stderr",
     "output_type": "stream",
     "text": [
      "Epoch - 3 / 50: 100%|██████████| 1469/1469 [00:14<00:00, 101.36it/s, loss=1.88]\n"
     ]
    },
    {
     "name": "stdout",
     "output_type": "stream",
     "text": [
      "Average CrossEntropyLoss of Epoch 3 : 2.294432912132223\n",
      "Validation of Epoch 3 : 18.355365665769238\n"
     ]
    },
    {
     "name": "stderr",
     "output_type": "stream",
     "text": [
      "Epoch - 4 / 50: 100%|██████████| 1469/1469 [00:13<00:00, 106.92it/s, loss=2.14]\n"
     ]
    },
    {
     "name": "stdout",
     "output_type": "stream",
     "text": [
      "Average CrossEntropyLoss of Epoch 4 : 1.9907001974714469\n",
      "Validation of Epoch 4 : 15.92551687272943\n"
     ]
    },
    {
     "name": "stderr",
     "output_type": "stream",
     "text": [
      "Epoch - 5 / 50: 100%|██████████| 1469/1469 [00:13<00:00, 107.35it/s, loss=1.96]\n"
     ]
    },
    {
     "name": "stdout",
     "output_type": "stream",
     "text": [
      "Average CrossEntropyLoss of Epoch 5 : 1.756335056271879\n",
      "Validation of Epoch 5 : 14.050605715693253\n"
     ]
    },
    {
     "name": "stderr",
     "output_type": "stream",
     "text": [
      "Epoch - 6 / 50: 100%|██████████| 1469/1469 [00:13<00:00, 106.90it/s, loss=1.39]\n"
     ]
    },
    {
     "name": "stdout",
     "output_type": "stream",
     "text": [
      "Average CrossEntropyLoss of Epoch 6 : 1.5739366293373245\n",
      "Validation of Epoch 6 : 12.591426061521737\n"
     ]
    },
    {
     "name": "stderr",
     "output_type": "stream",
     "text": [
      "Epoch - 7 / 50: 100%|██████████| 1469/1469 [00:13<00:00, 108.46it/s, loss=1.48]\n"
     ]
    },
    {
     "name": "stdout",
     "output_type": "stream",
     "text": [
      "Average CrossEntropyLoss of Epoch 7 : 1.421954966851578\n",
      "Validation of Epoch 7 : 11.37557922866536\n"
     ]
    },
    {
     "name": "stderr",
     "output_type": "stream",
     "text": [
      "Epoch - 8 / 50: 100%|██████████| 1469/1469 [00:17<00:00, 82.31it/s, loss=1.25] \n"
     ]
    },
    {
     "name": "stdout",
     "output_type": "stream",
     "text": [
      "Average CrossEntropyLoss of Epoch 8 : 1.2923816165300301\n",
      "Validation of Epoch 8 : 10.338997939617947\n"
     ]
    },
    {
     "name": "stderr",
     "output_type": "stream",
     "text": [
      "Epoch - 9 / 50: 100%|██████████| 1469/1469 [00:14<00:00, 100.55it/s, loss=1.3]  \n"
     ]
    },
    {
     "name": "stdout",
     "output_type": "stream",
     "text": [
      "Average CrossEntropyLoss of Epoch 9 : 1.1857183052717184\n",
      "Validation of Epoch 9 : 9.485695988222627\n"
     ]
    },
    {
     "name": "stderr",
     "output_type": "stream",
     "text": [
      "Epoch - 10 / 50: 100%|██████████| 1469/1469 [00:14<00:00, 104.08it/s, loss=1.19] \n"
     ]
    },
    {
     "name": "stdout",
     "output_type": "stream",
     "text": [
      "Average CrossEntropyLoss of Epoch 10 : 1.0927159866719343\n",
      "Validation of Epoch 10 : 8.741681396801427\n"
     ]
    },
    {
     "name": "stderr",
     "output_type": "stream",
     "text": [
      "Epoch - 11 / 50: 100%|██████████| 1469/1469 [00:14<00:00, 100.59it/s, loss=0.963]\n"
     ]
    },
    {
     "name": "stdout",
     "output_type": "stream",
     "text": [
      "Average CrossEntropyLoss of Epoch 11 : 1.0106548123690613\n",
      "Validation of Epoch 11 : 8.08519549419472\n"
     ]
    },
    {
     "name": "stderr",
     "output_type": "stream",
     "text": [
      "Epoch - 12 / 50: 100%|██████████| 1469/1469 [00:13<00:00, 106.91it/s, loss=1.09] \n"
     ]
    },
    {
     "name": "stdout",
     "output_type": "stream",
     "text": [
      "Average CrossEntropyLoss of Epoch 12 : 0.9387479854587383\n",
      "Validation of Epoch 12 : 7.5099439386469085\n"
     ]
    },
    {
     "name": "stderr",
     "output_type": "stream",
     "text": [
      "Epoch - 13 / 50: 100%|██████████| 1469/1469 [00:14<00:00, 102.75it/s, loss=0.915]\n"
     ]
    },
    {
     "name": "stdout",
     "output_type": "stream",
     "text": [
      "Average CrossEntropyLoss of Epoch 13 : 0.8797387494777222\n",
      "Validation of Epoch 13 : 7.037872561723251\n"
     ]
    },
    {
     "name": "stderr",
     "output_type": "stream",
     "text": [
      "Epoch - 14 / 50: 100%|██████████| 1469/1469 [00:14<00:00, 99.33it/s, loss=0.955] \n"
     ]
    },
    {
     "name": "stdout",
     "output_type": "stream",
     "text": [
      "Average CrossEntropyLoss of Epoch 14 : 0.826918154065788\n",
      "Validation of Epoch 14 : 6.615310046017045\n"
     ]
    },
    {
     "name": "stderr",
     "output_type": "stream",
     "text": [
      "Epoch - 15 / 50: 100%|██████████| 1469/1469 [00:14<00:00, 102.24it/s, loss=0.755]\n"
     ]
    },
    {
     "name": "stdout",
     "output_type": "stream",
     "text": [
      "Average CrossEntropyLoss of Epoch 15 : 0.7770899778436892\n",
      "Validation of Epoch 15 : 6.216686756497956\n"
     ]
    },
    {
     "name": "stderr",
     "output_type": "stream",
     "text": [
      "Epoch - 16 / 50: 100%|██████████| 1469/1469 [00:14<00:00, 102.28it/s, loss=0.93] \n"
     ]
    },
    {
     "name": "stdout",
     "output_type": "stream",
     "text": [
      "Average CrossEntropyLoss of Epoch 16 : 0.7324629428627546\n",
      "Validation of Epoch 16 : 5.859672375592439\n"
     ]
    },
    {
     "name": "stderr",
     "output_type": "stream",
     "text": [
      "Epoch - 17 / 50: 100%|██████████| 1469/1469 [00:14<00:00, 102.73it/s, loss=0.669]\n"
     ]
    },
    {
     "name": "stdout",
     "output_type": "stream",
     "text": [
      "Average CrossEntropyLoss of Epoch 17 : 0.6972685025096776\n",
      "Validation of Epoch 17 : 5.578118350339856\n"
     ]
    },
    {
     "name": "stderr",
     "output_type": "stream",
     "text": [
      "Epoch - 18 / 50: 100%|██████████| 1469/1469 [00:14<00:00, 104.32it/s, loss=0.74] \n"
     ]
    },
    {
     "name": "stdout",
     "output_type": "stream",
     "text": [
      "Average CrossEntropyLoss of Epoch 18 : 0.6605872267091131\n",
      "Validation of Epoch 18 : 5.284669704774274\n"
     ]
    },
    {
     "name": "stderr",
     "output_type": "stream",
     "text": [
      "Epoch - 19 / 50: 100%|██████████| 1469/1469 [00:14<00:00, 103.81it/s, loss=0.682]\n"
     ]
    },
    {
     "name": "stdout",
     "output_type": "stream",
     "text": [
      "Average CrossEntropyLoss of Epoch 19 : 0.6345300801404324\n",
      "Validation of Epoch 19 : 5.076213640992395\n"
     ]
    },
    {
     "name": "stderr",
     "output_type": "stream",
     "text": [
      "Epoch - 20 / 50: 100%|██████████| 1469/1469 [00:13<00:00, 105.09it/s, loss=0.651]\n"
     ]
    },
    {
     "name": "stdout",
     "output_type": "stream",
     "text": [
      "Average CrossEntropyLoss of Epoch 20 : 0.6042164097743711\n",
      "Validation of Epoch 20 : 4.8337055679524354\n"
     ]
    },
    {
     "name": "stderr",
     "output_type": "stream",
     "text": [
      "Epoch - 21 / 50: 100%|██████████| 1469/1469 [00:14<00:00, 101.79it/s, loss=0.844]\n"
     ]
    },
    {
     "name": "stdout",
     "output_type": "stream",
     "text": [
      "Average CrossEntropyLoss of Epoch 21 : 0.5909334047957884\n",
      "Validation of Epoch 21 : 4.727442093333976\n"
     ]
    },
    {
     "name": "stderr",
     "output_type": "stream",
     "text": [
      "Epoch - 22 / 50: 100%|██████████| 1469/1469 [00:14<00:00, 101.78it/s, loss=0.461]\n"
     ]
    },
    {
     "name": "stdout",
     "output_type": "stream",
     "text": [
      "Average CrossEntropyLoss of Epoch 22 : 0.5564523362248598\n",
      "Validation of Epoch 22 : 4.451595011983627\n"
     ]
    },
    {
     "name": "stderr",
     "output_type": "stream",
     "text": [
      "Epoch - 23 / 50: 100%|██████████| 1469/1469 [00:14<00:00, 101.31it/s, loss=0.601]\n"
     ]
    },
    {
     "name": "stdout",
     "output_type": "stream",
     "text": [
      "Average CrossEntropyLoss of Epoch 23 : 0.5386505705109335\n",
      "Validation of Epoch 23 : 4.309181643761927\n"
     ]
    },
    {
     "name": "stderr",
     "output_type": "stream",
     "text": [
      "Epoch - 24 / 50: 100%|██████████| 1469/1469 [00:14<00:00, 104.20it/s, loss=0.634]\n"
     ]
    },
    {
     "name": "stdout",
     "output_type": "stream",
     "text": [
      "Average CrossEntropyLoss of Epoch 24 : 0.5211565062273933\n",
      "Validation of Epoch 24 : 4.169229873890197\n"
     ]
    },
    {
     "name": "stderr",
     "output_type": "stream",
     "text": [
      "Epoch - 25 / 50: 100%|██████████| 1469/1469 [00:14<00:00, 104.64it/s, loss=0.73] \n"
     ]
    },
    {
     "name": "stdout",
     "output_type": "stream",
     "text": [
      "Average CrossEntropyLoss of Epoch 25 : 0.5036829874287484\n",
      "Validation of Epoch 25 : 4.029442467023391\n"
     ]
    },
    {
     "name": "stderr",
     "output_type": "stream",
     "text": [
      "Epoch - 26 / 50: 100%|██████████| 1469/1469 [00:14<00:00, 104.48it/s, loss=0.496]\n"
     ]
    },
    {
     "name": "stdout",
     "output_type": "stream",
     "text": [
      "Average CrossEntropyLoss of Epoch 26 : 0.48973013507882157\n",
      "Validation of Epoch 26 : 3.9178202419371093\n"
     ]
    },
    {
     "name": "stderr",
     "output_type": "stream",
     "text": [
      "Epoch - 27 / 50: 100%|██████████| 1469/1469 [00:14<00:00, 104.71it/s, loss=0.361]\n"
     ]
    },
    {
     "name": "stdout",
     "output_type": "stream",
     "text": [
      "Average CrossEntropyLoss of Epoch 27 : 0.47306090469694684\n",
      "Validation of Epoch 27 : 3.784467108180881\n"
     ]
    },
    {
     "name": "stderr",
     "output_type": "stream",
     "text": [
      "Epoch - 28 / 50: 100%|██████████| 1469/1469 [00:14<00:00, 104.00it/s, loss=0.459]\n"
     ]
    },
    {
     "name": "stdout",
     "output_type": "stream",
     "text": [
      "Average CrossEntropyLoss of Epoch 28 : 0.4681933199106362\n",
      "Validation of Epoch 28 : 3.7455266370128495\n"
     ]
    },
    {
     "name": "stderr",
     "output_type": "stream",
     "text": [
      "Epoch - 29 / 50: 100%|██████████| 1469/1469 [00:14<00:00, 104.83it/s, loss=0.428]\n"
     ]
    },
    {
     "name": "stdout",
     "output_type": "stream",
     "text": [
      "Average CrossEntropyLoss of Epoch 29 : 0.4458856219561379\n",
      "Validation of Epoch 29 : 3.5670660026002134\n"
     ]
    },
    {
     "name": "stderr",
     "output_type": "stream",
     "text": [
      "Epoch - 30 / 50: 100%|██████████| 1469/1469 [00:14<00:00, 104.37it/s, loss=0.344]\n"
     ]
    },
    {
     "name": "stdout",
     "output_type": "stream",
     "text": [
      "Average CrossEntropyLoss of Epoch 30 : 0.4392756036509536\n",
      "Validation of Epoch 30 : 3.514186137424145\n"
     ]
    },
    {
     "name": "stderr",
     "output_type": "stream",
     "text": [
      "Epoch - 31 / 50: 100%|██████████| 1469/1469 [00:14<00:00, 103.92it/s, loss=0.494]\n"
     ]
    },
    {
     "name": "stdout",
     "output_type": "stream",
     "text": [
      "Average CrossEntropyLoss of Epoch 31 : 0.4321106960356923\n",
      "Validation of Epoch 31 : 3.456867181378767\n"
     ]
    },
    {
     "name": "stderr",
     "output_type": "stream",
     "text": [
      "Epoch - 32 / 50: 100%|██████████| 1469/1469 [00:14<00:00, 100.81it/s, loss=0.721]\n"
     ]
    },
    {
     "name": "stdout",
     "output_type": "stream",
     "text": [
      "Average CrossEntropyLoss of Epoch 32 : 0.4212606409238515\n",
      "Validation of Epoch 32 : 3.370067202168867\n"
     ]
    },
    {
     "name": "stderr",
     "output_type": "stream",
     "text": [
      "Epoch - 33 / 50: 100%|██████████| 1469/1469 [00:14<00:00, 101.90it/s, loss=0.374]\n"
     ]
    },
    {
     "name": "stdout",
     "output_type": "stream",
     "text": [
      "Average CrossEntropyLoss of Epoch 33 : 0.417815582789492\n",
      "Validation of Epoch 33 : 3.3425068836859717\n"
     ]
    },
    {
     "name": "stderr",
     "output_type": "stream",
     "text": [
      "Epoch - 34 / 50: 100%|██████████| 1469/1469 [00:14<00:00, 102.46it/s, loss=0.444]\n"
     ]
    },
    {
     "name": "stdout",
     "output_type": "stream",
     "text": [
      "Average CrossEntropyLoss of Epoch 34 : 0.4110698472962626\n",
      "Validation of Epoch 34 : 3.288541286780496\n"
     ]
    },
    {
     "name": "stderr",
     "output_type": "stream",
     "text": [
      "Epoch - 35 / 50: 100%|██████████| 1469/1469 [00:14<00:00, 100.75it/s, loss=0.639]\n"
     ]
    },
    {
     "name": "stdout",
     "output_type": "stream",
     "text": [
      "Average CrossEntropyLoss of Epoch 35 : 0.4064017302003083\n",
      "Validation of Epoch 35 : 3.25119654864769\n"
     ]
    },
    {
     "name": "stderr",
     "output_type": "stream",
     "text": [
      "Epoch - 36 / 50: 100%|██████████| 1469/1469 [00:14<00:00, 102.18it/s, loss=0.473]\n"
     ]
    },
    {
     "name": "stdout",
     "output_type": "stream",
     "text": [
      "Average CrossEntropyLoss of Epoch 36 : 0.39754776008570164\n",
      "Validation of Epoch 36 : 3.1803651644794906\n"
     ]
    },
    {
     "name": "stderr",
     "output_type": "stream",
     "text": [
      "Epoch - 37 / 50: 100%|██████████| 1469/1469 [00:14<00:00, 103.95it/s, loss=0.685]\n"
     ]
    },
    {
     "name": "stdout",
     "output_type": "stream",
     "text": [
      "Average CrossEntropyLoss of Epoch 37 : 0.39096597545567596\n",
      "Validation of Epoch 37 : 3.127711167503309\n"
     ]
    },
    {
     "name": "stderr",
     "output_type": "stream",
     "text": [
      "Epoch - 38 / 50: 100%|██████████| 1469/1469 [00:14<00:00, 104.68it/s, loss=0.329]\n"
     ]
    },
    {
     "name": "stdout",
     "output_type": "stream",
     "text": [
      "Average CrossEntropyLoss of Epoch 38 : 0.38339373502514495\n",
      "Validation of Epoch 38 : 3.0671335662683474\n"
     ]
    },
    {
     "name": "stderr",
     "output_type": "stream",
     "text": [
      "Epoch - 39 / 50: 100%|██████████| 1469/1469 [00:14<00:00, 104.79it/s, loss=0.423]\n"
     ]
    },
    {
     "name": "stdout",
     "output_type": "stream",
     "text": [
      "Average CrossEntropyLoss of Epoch 39 : 0.4039995344106286\n",
      "Validation of Epoch 39 : 3.231979084547\n"
     ]
    },
    {
     "name": "stderr",
     "output_type": "stream",
     "text": [
      "Epoch - 40 / 50: 100%|██████████| 1469/1469 [00:14<00:00, 104.59it/s, loss=0.206]\n"
     ]
    },
    {
     "name": "stdout",
     "output_type": "stream",
     "text": [
      "Average CrossEntropyLoss of Epoch 40 : 0.37463550775368354\n",
      "Validation of Epoch 40 : 2.9970681207713197\n"
     ]
    },
    {
     "name": "stderr",
     "output_type": "stream",
     "text": [
      "Epoch - 41 / 50: 100%|██████████| 1469/1469 [00:14<00:00, 101.26it/s, loss=0.452]\n"
     ]
    },
    {
     "name": "stdout",
     "output_type": "stream",
     "text": [
      "Average CrossEntropyLoss of Epoch 41 : 0.3794580767935194\n",
      "Validation of Epoch 41 : 3.0356484678830347\n"
     ]
    },
    {
     "name": "stderr",
     "output_type": "stream",
     "text": [
      "Epoch - 42 / 50: 100%|██████████| 1469/1469 [00:14<00:00, 102.72it/s, loss=0.542]\n"
     ]
    },
    {
     "name": "stdout",
     "output_type": "stream",
     "text": [
      "Average CrossEntropyLoss of Epoch 42 : 0.3825626226374207\n",
      "Validation of Epoch 42 : 3.0604847025315327\n"
     ]
    },
    {
     "name": "stderr",
     "output_type": "stream",
     "text": [
      "Epoch - 43 / 50: 100%|██████████| 1469/1469 [00:14<00:00, 104.31it/s, loss=0.516]\n"
     ]
    },
    {
     "name": "stdout",
     "output_type": "stream",
     "text": [
      "Average CrossEntropyLoss of Epoch 43 : 0.3909525706162285\n",
      "Validation of Epoch 43 : 3.127603929358124\n"
     ]
    },
    {
     "name": "stderr",
     "output_type": "stream",
     "text": [
      "Epoch - 44 / 50: 100%|██████████| 1469/1469 [00:13<00:00, 105.21it/s, loss=0.457]\n"
     ]
    },
    {
     "name": "stdout",
     "output_type": "stream",
     "text": [
      "Average CrossEntropyLoss of Epoch 44 : 0.3963477779742646\n",
      "Validation of Epoch 44 : 3.1707653586488904\n"
     ]
    },
    {
     "name": "stderr",
     "output_type": "stream",
     "text": [
      "Epoch - 45 / 50: 100%|██████████| 1469/1469 [00:14<00:00, 104.52it/s, loss=0.357]\n"
     ]
    },
    {
     "name": "stdout",
     "output_type": "stream",
     "text": [
      "Average CrossEntropyLoss of Epoch 45 : 0.3632907184016914\n",
      "Validation of Epoch 45 : 2.9063102886918344\n"
     ]
    },
    {
     "name": "stderr",
     "output_type": "stream",
     "text": [
      "Epoch - 46 / 50: 100%|██████████| 1469/1469 [00:14<00:00, 104.69it/s, loss=0.501]\n"
     ]
    },
    {
     "name": "stdout",
     "output_type": "stream",
     "text": [
      "Average CrossEntropyLoss of Epoch 46 : 0.39421298799896887\n",
      "Validation of Epoch 46 : 3.1536871296847853\n"
     ]
    },
    {
     "name": "stderr",
     "output_type": "stream",
     "text": [
      "Epoch - 47 / 50: 100%|██████████| 1469/1469 [00:14<00:00, 104.33it/s, loss=0.458]\n"
     ]
    },
    {
     "name": "stdout",
     "output_type": "stream",
     "text": [
      "Average CrossEntropyLoss of Epoch 47 : 0.38810051985599914\n",
      "Validation of Epoch 47 : 3.104787644634987\n"
     ]
    },
    {
     "name": "stderr",
     "output_type": "stream",
     "text": [
      "Epoch - 48 / 50: 100%|██████████| 1469/1469 [00:14<00:00, 104.80it/s, loss=0.404]\n"
     ]
    },
    {
     "name": "stdout",
     "output_type": "stream",
     "text": [
      "Average CrossEntropyLoss of Epoch 48 : 0.378679505407652\n",
      "Validation of Epoch 48 : 3.0294199299253832\n"
     ]
    },
    {
     "name": "stderr",
     "output_type": "stream",
     "text": [
      "Epoch - 49 / 50: 100%|██████████| 1469/1469 [00:14<00:00, 103.92it/s, loss=0.421]\n"
     ]
    },
    {
     "name": "stdout",
     "output_type": "stream",
     "text": [
      "Average CrossEntropyLoss of Epoch 49 : 0.39125298315455836\n",
      "Validation of Epoch 49 : 3.1300072168817947\n"
     ]
    },
    {
     "name": "stderr",
     "output_type": "stream",
     "text": [
      "Epoch - 50 / 50: 100%|██████████| 1469/1469 [00:14<00:00, 104.68it/s, loss=0.481]\n"
     ]
    },
    {
     "name": "stdout",
     "output_type": "stream",
     "text": [
      "Average CrossEntropyLoss of Epoch 50 : 0.41447572614316297\n",
      "Validation of Epoch 50 : 3.315788172630852\n",
      "Finish training !\n"
     ]
    }
   ],
   "source": [
    "running_loss = []\n",
    "running_valid_loss = []\n",
    "for i in range(epochs):\n",
    "    \n",
    "    model.train()\n",
    "\n",
    "    # epoch loss\n",
    "    epoch_loss = 0\n",
    "    \n",
    "    ## Training with loss logging\n",
    "    pbar = tqdm(trainloader)\n",
    "    pbar.set_description(f\"Epoch - {i + 1} / {epochs}\")\n",
    "    for data, label in pbar:\n",
    "\n",
    "        data, label = data.to(device), label.to(device)\n",
    "        \n",
    "        optimizer.zero_grad() # 1\n",
    "\n",
    "        pred, hidden = model(data)\n",
    "\n",
    "        loss = loss_function(pred, label)\n",
    "\n",
    "        loss.backward() # 2\n",
    "\n",
    "        optimizer.step() # 3\n",
    "\n",
    "        epoch_loss += loss.item() * data.size(0)\n",
    "        pbar.set_postfix({\"loss\" : loss.item()})\n",
    "    \n",
    "\n",
    "    print(f\"Average CrossEntropyLoss of Epoch {i + 1} : {epoch_loss / len(trainloader.dataset)}\")\n",
    "    running_loss.append(epoch_loss / len(trainloader.dataset))\n",
    "\n",
    "    model.eval()\n",
    "\n",
    "    valid_loss = 0\n",
    "\n",
    "    for data, label in valloader:\n",
    "\n",
    "        data, label = data.to(device), label.to(device)\n",
    "\n",
    "        pred, hidden = model(data)\n",
    "\n",
    "        loss = loss_function(pred, label)\n",
    "\n",
    "        valid_loss += loss.item() * data.size(0)\n",
    "\n",
    "    print(f\"Validation of Epoch {i + 1} : {epoch_loss / len(valloader.dataset)}\")\n",
    "    running_valid_loss.append(epoch_loss / len(valloader.dataset))\n",
    "\n",
    "\n",
    "\n",
    "print(\"Finish training !\")"
   ]
  },
  {
   "cell_type": "code",
   "execution_count": 19,
   "metadata": {},
   "outputs": [],
   "source": [
    "torch.save(model.state_dict() ,\"tobyfox's_model_50_epochs_.pt\")"
   ]
  },
  {
   "cell_type": "code",
   "execution_count": 17,
   "metadata": {},
   "outputs": [
    {
     "data": {
      "text/plain": [
       "<All keys matched successfully>"
      ]
     },
     "execution_count": 17,
     "metadata": {},
     "output_type": "execute_result"
    }
   ],
   "source": [
    "model = TobyFox(hidden_size=256,possible_notes=all_ds.n,embedding_dim=50).to(device)\n",
    "model.load_state_dict(torch.load(\"tobyfox's_model_50_epochs_.pt\"))"
   ]
  },
  {
   "cell_type": "code",
   "execution_count": 21,
   "metadata": {},
   "outputs": [
    {
     "data": {
      "text/plain": [
       "[<matplotlib.lines.Line2D at 0x1cf3d9a17c0>]"
      ]
     },
     "execution_count": 21,
     "metadata": {},
     "output_type": "execute_result"
    },
    {
     "data": {
      "image/png": "[encoded data removed]",
      "text/plain": [
       "<Figure size 432x288 with 1 Axes>"
      ]
     },
     "metadata": {
      "image/png": {
       "height": 248,
       "width": 369
      },
      "needs_background": "light"
     },
     "output_type": "display_data"
    }
   ],
   "source": [
    "import matplotlib.pyplot as plt\n",
    "\n",
    "\n",
    "plt.plot(np.arange(epochs), running_loss)\n",
    "plt.plot(np.arange(epochs),  running_valid_loss)"
   ]
  },
  {
   "cell_type": "code",
   "execution_count": 24,
   "metadata": {},
   "outputs": [],
   "source": [
    "def create_midi(prediction_output):\n",
    "    from music21 import note, chord, instrument, stream\n",
    "    import random\n",
    "    offset = 0\n",
    "    output_notes = []\n",
    "\n",
    "        # create note and chord objects based on the values generated by the model\n",
    "    for pattern in prediction_output:\n",
    "            # pattern is a chord\n",
    "        if ('.' in pattern) or pattern.isdigit():\n",
    "            notes_in_chord = pattern.split('.')\n",
    "            notes = []\n",
    "            for current_note in notes_in_chord:\n",
    "                new_note = note.Note(int(current_note))\n",
    "                new_note.storedInstrument = instrument.Piano()\n",
    "                notes.append(new_note)\n",
    "            new_chord = chord.Chord(notes)\n",
    "            new_chord.offset = offset\n",
    "            output_notes.append(new_chord)\n",
    "            # pattern is a note\n",
    "        else:\n",
    "            new_note = note.Note(pattern)\n",
    "            new_note.offset = offset\n",
    "            new_note.storedInstrument = instrument.Piano()\n",
    "            output_notes.append(new_note)\n",
    "\n",
    "            # increase offset each iteration so that notes do not stack\n",
    "        offset += random.choice([0.25])\n",
    "\n",
    "    midi_stream = stream.Stream(output_notes)\n",
    "\n",
    "    midi_stream.write(\"midi\", fp=\"peam's_model_midi_02.mid\")"
   ]
  },
  {
   "cell_type": "code",
   "execution_count": 25,
   "metadata": {},
   "outputs": [
    {
     "name": "stderr",
     "output_type": "stream",
     "text": [
      "100%|██████████| 200/200 [00:00<00:00, 280.78it/s]\n"
     ]
    }
   ],
   "source": [
    "testing_model = model.eval().to(device)\n",
    "\n",
    "start = np.random.randint(0, len(all_ds)-1)\n",
    "\n",
    "\n",
    "pitchnames = sorted(set(item for item in all_ds.notes))\n",
    "int_to_note = dict((number, note) for number, note in enumerate(pitchnames))\n",
    "#pattern = all_ds.data[start]\n",
    "pattern = torch.tensor(np.reshape(random.choices(list(range(len(int_to_note))), k=100), (100, 1)))\n",
    "window_size = all_ds.sequence_length\n",
    "prediction_output = []\n",
    "\n",
    "# doing auto regressive generation\n",
    "for note_indx in tqdm(range(200)):\n",
    "    prediction_input = pattern.view(1, len(pattern), 1).to(device)[:, note_indx:note_indx+window_size, :]\n",
    "\n",
    "    prediction, _ = testing_model(prediction_input)\n",
    "    # get prediction\n",
    "    index = torch.argmax(prediction, dim=-1)\n",
    "    \n",
    "    # get note from prediction\n",
    "    result = int_to_note[index.item()]\n",
    "    # add to output\n",
    "    prediction_output.append(result)\n",
    "    # add predicted note to the input sequence\n",
    "    pattern = torch.cat((pattern.cpu(), torch.unsqueeze(index.cpu(), dim=0)), dim=0)\n",
    "\n",
    "    \n",
    "\n",
    "create_midi(prediction_output)"
   ]
  }
 ],
 "metadata": {
  "kernelspec": {
   "display_name": "Python 3.9.9 64-bit",
   "language": "python",
   "name": "python3"
  },
  "language_info": {
   "codemirror_mode": {
    "name": "ipython",
    "version": 3
   },
   "file_extension": ".py",
   "mimetype": "text/x-python",
   "name": "python",
   "nbconvert_exporter": "python",
   "pygments_lexer": "ipython3",
   "version": "3.9.9"
  },
  "orig_nbformat": 4,
  "vscode": {
   "interpreter": {
    "hash": "14958d3aee5f1cad06795f787e54b96185c25fb40dfec723a5be941f3a531b8c"
   }
  }
 },
 "nbformat": 4,
 "nbformat_minor": 2
}
