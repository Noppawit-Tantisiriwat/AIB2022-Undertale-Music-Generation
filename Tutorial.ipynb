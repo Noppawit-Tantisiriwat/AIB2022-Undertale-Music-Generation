{
 "cells": [
  {
   "cell_type": "markdown",
   "metadata": {},
   "source": [
    "# Baseline จาก tutorial\n",
    "## https://github.com/WasinUddy/Music-Generator"
   ]
  },
  {
   "cell_type": "markdown",
   "metadata": {},
   "source": [
    "## model"
   ]
  },
  {
   "cell_type": "code",
   "execution_count": 2,
   "metadata": {},
   "outputs": [],
   "source": [
    "# นำเข้า library ที่จำเป็น\n",
    "import glob\n",
    "import pickle\n",
    "import numpy as np\n",
    "from music21 import converter, instrument, note, chord\n",
    "import tensorflow as tf\n",
    "from tensorflow import keras\n",
    "from tensorflow.keras import layers\n",
    "from tensorflow.keras.models import Sequential\n",
    "from tensorflow.keras.layers import Dense\n",
    "from tensorflow.keras.layers import Dropout\n",
    "from tensorflow.keras.layers import Activation\n",
    "from tensorflow.keras.layers import BatchNormalization as BatchNorm\n",
    "from tensorflow.keras.utils import to_categorical\n",
    "from tensorflow.keras.callbacks import ModelCheckpoint\n",
    "from tqdm import tqdm"
   ]
  },
  {
   "cell_type": "code",
   "execution_count": 6,
   "metadata": {},
   "outputs": [],
   "source": [
    "#โหลดโน๊ตที่เรา preprocess เอาไว้ก่อนหน้านั้น\n",
    "with open('../data/notes_final.pkl', 'rb') as f:\n",
    "    notes = pickle.load(f) "
   ]
  },
  {
   "cell_type": "code",
   "execution_count": 7,
   "metadata": {},
   "outputs": [],
   "source": [
    "# กำหนดให้ n เป็น จำนวนของโน๊ตทั้งหมดที่่เป็นไปได้ในชุดข้อมูล\n",
    "n = len(set(notes))\n"
   ]
  },
  {
   "cell_type": "code",
   "execution_count": 4,
   "metadata": {},
   "outputs": [
    {
     "data": {
      "text/plain": [
       "1140"
      ]
     },
     "execution_count": 4,
     "metadata": {},
     "output_type": "execute_result"
    }
   ],
   "source": [
    "n"
   ]
  },
  {
   "cell_type": "code",
   "execution_count": 8,
   "metadata": {},
   "outputs": [],
   "source": [
    "# กำหนดความยาวของ sequence ที่ต้องการใช้เพื่อทำนายตัวถัดไป\n",
    "sequence_length = 100\n",
    "\n",
    "# สร้าง dictionary สำหรับการแปลงจากโน๊ตให้เป็นตัวเลข\n",
    "pitchnames = sorted(set(item for item in notes))\n",
    "note_to_int = dict((note, number) for number, note in enumerate(pitchnames))\n",
    "\n",
    "network_input = []\n",
    "network_output = []\n",
    "\n",
    "# window sliding\n",
    "for i in range(0, len(notes) - sequence_length, 1):\n",
    "    sequence_in = notes[i:i + sequence_length]\n",
    "    sequence_out = notes[i + sequence_length]\n",
    "    network_input.append([note_to_int[char] for char in sequence_in])\n",
    "    network_output.append(note_to_int[sequence_out])\n",
    "\n",
    "n_patterns = len(network_input)\n",
    "\n",
    "# ทำให้ input อยู่ในรูปแบบที่ tensorflow model สามารถอ่านได้\n",
    "network_input = np.reshape(network_input, (n_patterns, sequence_length, 1))\n",
    "# ทำให้ ตัวเลขแต่ละตัวเป็นค่าทศนิยมระหว่าง 0 กับ 1 -> ทำให้โมเดลเรียนรู้ได้\n",
    "network_input = network_input / float(n)\n",
    "# ทำให้ label เป็น onehot\n",
    "network_output = to_categorical(network_output)"
   ]
  },
  {
   "cell_type": "code",
   "execution_count": 6,
   "metadata": {},
   "outputs": [
    {
     "data": {
      "text/plain": [
       "(235009, 100, 1)"
      ]
     },
     "execution_count": 6,
     "metadata": {},
     "output_type": "execute_result"
    }
   ],
   "source": [
    "# ตรวจสอบขนาด input\n",
    "network_input.shape"
   ]
  },
  {
   "cell_type": "code",
   "execution_count": 7,
   "metadata": {},
   "outputs": [
    {
     "data": {
      "text/plain": [
       "(235009, 1140)"
      ]
     },
     "execution_count": 7,
     "metadata": {},
     "output_type": "execute_result"
    }
   ],
   "source": [
    "# ตรวจสอบขนาด label\n",
    "network_output.shape"
   ]
  },
  {
   "cell_type": "code",
   "execution_count": 8,
   "metadata": {},
   "outputs": [],
   "source": [
    "# n_vocab คือจำนวนโน๊ตทั้งหมดที่เป็นไปได้ -> เอามาจากความยาวของ onehot ใน label\n",
    "n_vocab = network_output.shape[-1]"
   ]
  },
  {
   "cell_type": "code",
   "execution_count": 9,
   "metadata": {},
   "outputs": [],
   "source": [
    "#Create Model\n",
    "model = Sequential()\n",
    "model.add(layers.LSTM(256, input_shape=(network_input.shape[1], network_input.shape[2]), return_sequences=True)) \n",
    "# ใช้ model.add() ในการเพิ่ม layer ให้กับ model             \n",
    "model.add(layers.LSTM(128, return_sequences=True))\n",
    "model.add(layers.LSTM(64))\n",
    "\n",
    "# classifier ที่มีขนาดเท่ากับจำนวนโน๊ตที่เป็นไปได้\n",
    "model.add(Dense(n_vocab))\n",
    "# softmax activation\n",
    "model.add(Activation('softmax'))\n",
    "# compile model โดยใส่ loss function , optimizer, และ metrics\n",
    "model.compile(loss='categorical_crossentropy', optimizer='rmsprop', metrics=[tf.keras.metrics.Accuracy()])"
   ]
  },
  {
   "cell_type": "code",
   "execution_count": 11,
   "metadata": {},
   "outputs": [],
   "source": [
    "# model checkpoint -> บันทึก model ระหว่างการ train โดยดูจากพัฒนาการของโมเดล\n",
    "filepath = \"weight_bidirectional_layernorm/weights-improvement-{epoch:02d}-{loss:.4f}-bigger.hdf5\"\n",
    "checkpoint = ModelCheckpoint(\n",
    "    filepath,\n",
    "    monitor='loss',\n",
    "    verbose=0,\n",
    "    save_best_only=True,\n",
    "    mode='min'\n",
    ")\n",
    "callbacks_list = [checkpoint]\n",
    "\n"
   ]
  },
  {
   "cell_type": "code",
   "execution_count": 12,
   "metadata": {},
   "outputs": [
    {
     "name": "stdout",
     "output_type": "stream",
     "text": [
      "Epoch 1/84\n",
      "1837/1837 [==============================] - 44s 22ms/step - loss: 1.7763 - accuracy: 0.0000e+00\n",
      "Epoch 2/84\n",
      "1837/1837 [==============================] - 41s 22ms/step - loss: 1.7719 - accuracy: 0.0000e+00\n",
      "Epoch 3/84\n",
      "1837/1837 [==============================] - 41s 22ms/step - loss: 1.7708 - accuracy: 0.0000e+00\n",
      "Epoch 4/84\n",
      "1837/1837 [==============================] - 41s 22ms/step - loss: 1.7653 - accuracy: 0.0000e+00\n",
      "Epoch 5/84\n",
      "1837/1837 [==============================] - 41s 23ms/step - loss: 1.7614 - accuracy: 0.0000e+00\n",
      "Epoch 6/84\n",
      "1837/1837 [==============================] - 41s 22ms/step - loss: 1.7574 - accuracy: 0.0000e+00\n",
      "Epoch 7/84\n",
      "1837/1837 [==============================] - 41s 22ms/step - loss: 1.7512 - accuracy: 0.0000e+00\n",
      "Epoch 8/84\n",
      "1837/1837 [==============================] - 42s 23ms/step - loss: 1.7471 - accuracy: 0.0000e+00\n",
      "Epoch 9/84\n",
      "1837/1837 [==============================] - 42s 23ms/step - loss: 1.7445 - accuracy: 0.0000e+00\n",
      "Epoch 10/84\n",
      "1837/1837 [==============================] - 42s 23ms/step - loss: 1.7380 - accuracy: 0.0000e+00\n",
      "Epoch 11/84\n",
      "1837/1837 [==============================] - 41s 22ms/step - loss: 1.7352 - accuracy: 0.0000e+00\n",
      "Epoch 12/84\n",
      "1837/1837 [==============================] - 41s 22ms/step - loss: 1.7304 - accuracy: 0.0000e+00\n",
      "Epoch 13/84\n",
      "1837/1837 [==============================] - 41s 22ms/step - loss: 1.7271 - accuracy: 0.0000e+00\n",
      "Epoch 14/84\n",
      "1837/1837 [==============================] - 41s 22ms/step - loss: 1.7227 - accuracy: 0.0000e+00\n",
      "Epoch 15/84\n",
      "1837/1837 [==============================] - 42s 23ms/step - loss: 1.7191 - accuracy: 0.0000e+00\n",
      "Epoch 16/84\n",
      "1837/1837 [==============================] - 42s 23ms/step - loss: 1.7171 - accuracy: 0.0000e+00\n",
      "Epoch 17/84\n",
      "1837/1837 [==============================] - 41s 22ms/step - loss: 1.7106 - accuracy: 0.0000e+00\n",
      "Epoch 18/84\n",
      "1837/1837 [==============================] - 53s 29ms/step - loss: 1.7080 - accuracy: 0.0000e+00\n",
      "Epoch 19/84\n",
      "1837/1837 [==============================] - 74s 40ms/step - loss: 1.7064 - accuracy: 0.0000e+00\n",
      "Epoch 20/84\n",
      "1837/1837 [==============================] - 74s 40ms/step - loss: 1.7014 - accuracy: 0.0000e+00\n",
      "Epoch 21/84\n",
      "1837/1837 [==============================] - 74s 40ms/step - loss: 1.6959 - accuracy: 0.0000e+00\n",
      "Epoch 22/84\n",
      "1837/1837 [==============================] - 74s 40ms/step - loss: 1.6937 - accuracy: 0.0000e+00\n",
      "Epoch 23/84\n",
      "1837/1837 [==============================] - 74s 40ms/step - loss: 1.6905 - accuracy: 0.0000e+00\n",
      "Epoch 24/84\n",
      "1837/1837 [==============================] - 74s 40ms/step - loss: 1.6848 - accuracy: 0.0000e+00\n",
      "Epoch 25/84\n",
      "1837/1837 [==============================] - 74s 40ms/step - loss: 1.6809 - accuracy: 0.0000e+00\n",
      "Epoch 26/84\n",
      "1837/1837 [==============================] - 54s 30ms/step - loss: 1.6787 - accuracy: 0.0000e+00\n",
      "Epoch 27/84\n",
      "1837/1837 [==============================] - 41s 23ms/step - loss: 1.6751 - accuracy: 0.0000e+00\n",
      "Epoch 28/84\n",
      "1837/1837 [==============================] - 41s 23ms/step - loss: 1.6762 - accuracy: 0.0000e+00\n",
      "Epoch 29/84\n",
      "1837/1837 [==============================] - 40s 22ms/step - loss: 1.6675 - accuracy: 0.0000e+00\n",
      "Epoch 30/84\n",
      "1837/1837 [==============================] - 41s 22ms/step - loss: 1.6673 - accuracy: 0.0000e+00\n",
      "Epoch 31/84\n",
      "1837/1837 [==============================] - 42s 23ms/step - loss: 1.6619 - accuracy: 0.0000e+00\n",
      "Epoch 32/84\n",
      "1837/1837 [==============================] - 41s 22ms/step - loss: 1.6611 - accuracy: 0.0000e+00\n",
      "Epoch 33/84\n",
      "1837/1837 [==============================] - 41s 22ms/step - loss: 1.6566 - accuracy: 0.0000e+00\n",
      "Epoch 34/84\n",
      "1837/1837 [==============================] - 44s 24ms/step - loss: 1.6549 - accuracy: 0.0000e+00\n",
      "Epoch 35/84\n",
      "1837/1837 [==============================] - 41s 23ms/step - loss: 1.6536 - accuracy: 0.0000e+00\n",
      "Epoch 36/84\n",
      "1837/1837 [==============================] - 42s 23ms/step - loss: 1.6488 - accuracy: 0.0000e+00\n",
      "Epoch 37/84\n",
      "1837/1837 [==============================] - 42s 23ms/step - loss: 1.6474 - accuracy: 0.0000e+00\n",
      "Epoch 38/84\n",
      "1837/1837 [==============================] - 42s 23ms/step - loss: 1.6427 - accuracy: 0.0000e+00\n",
      "Epoch 39/84\n",
      "1837/1837 [==============================] - 42s 23ms/step - loss: 1.6385 - accuracy: 0.0000e+00\n",
      "Epoch 40/84\n",
      "1837/1837 [==============================] - 42s 23ms/step - loss: 1.6380 - accuracy: 0.0000e+00\n",
      "Epoch 41/84\n",
      "1837/1837 [==============================] - 41s 22ms/step - loss: 1.6305 - accuracy: 0.0000e+00\n",
      "Epoch 42/84\n",
      "1837/1837 [==============================] - 41s 23ms/step - loss: 1.6298 - accuracy: 0.0000e+00\n",
      "Epoch 43/84\n",
      "1837/1837 [==============================] - 41s 22ms/step - loss: 1.6301 - accuracy: 0.0000e+00\n",
      "Epoch 44/84\n",
      "1837/1837 [==============================] - 42s 23ms/step - loss: 1.6258 - accuracy: 0.0000e+00\n",
      "Epoch 45/84\n",
      "1837/1837 [==============================] - 41s 23ms/step - loss: 1.6232 - accuracy: 0.0000e+00\n",
      "Epoch 46/84\n",
      "1837/1837 [==============================] - 41s 22ms/step - loss: 1.6179 - accuracy: 0.0000e+00\n",
      "Epoch 47/84\n",
      "1837/1837 [==============================] - 41s 22ms/step - loss: 1.6179 - accuracy: 0.0000e+00\n",
      "Epoch 48/84\n",
      "1837/1837 [==============================] - 41s 22ms/step - loss: 1.6137 - accuracy: 0.0000e+00\n",
      "Epoch 49/84\n",
      "1837/1837 [==============================] - 41s 23ms/step - loss: 1.6125 - accuracy: 0.0000e+00\n",
      "Epoch 50/84\n",
      "1837/1837 [==============================] - 41s 22ms/step - loss: 1.6064 - accuracy: 0.0000e+00\n",
      "Epoch 51/84\n",
      "1837/1837 [==============================] - 42s 23ms/step - loss: 1.6053 - accuracy: 0.0000e+00\n",
      "Epoch 52/84\n",
      "1837/1837 [==============================] - 41s 22ms/step - loss: 1.6046 - accuracy: 0.0000e+00\n",
      "Epoch 53/84\n",
      "1837/1837 [==============================] - 41s 22ms/step - loss: 1.6031 - accuracy: 0.0000e+00\n",
      "Epoch 54/84\n",
      "1837/1837 [==============================] - 42s 23ms/step - loss: 1.5988 - accuracy: 0.0000e+00\n",
      "Epoch 55/84\n",
      "1837/1837 [==============================] - 42s 23ms/step - loss: 1.5953 - accuracy: 0.0000e+00\n",
      "Epoch 56/84\n",
      "1837/1837 [==============================] - 42s 23ms/step - loss: 1.5940 - accuracy: 0.0000e+00\n",
      "Epoch 57/84\n",
      "1837/1837 [==============================] - 41s 22ms/step - loss: 1.5915 - accuracy: 0.0000e+00\n",
      "Epoch 58/84\n",
      "1837/1837 [==============================] - 41s 22ms/step - loss: 1.5908 - accuracy: 0.0000e+00\n",
      "Epoch 59/84\n",
      "1837/1837 [==============================] - 41s 22ms/step - loss: 1.5841 - accuracy: 0.0000e+00\n",
      "Epoch 60/84\n",
      "1837/1837 [==============================] - 42s 23ms/step - loss: 1.5807 - accuracy: 0.0000e+00\n",
      "Epoch 61/84\n",
      "1837/1837 [==============================] - 42s 23ms/step - loss: 1.5792 - accuracy: 0.0000e+00\n",
      "Epoch 62/84\n",
      "1837/1837 [==============================] - 42s 23ms/step - loss: 1.5783 - accuracy: 0.0000e+00\n",
      "Epoch 63/84\n",
      "1837/1837 [==============================] - 42s 23ms/step - loss: 1.5763 - accuracy: 0.0000e+00\n",
      "Epoch 64/84\n",
      "1837/1837 [==============================] - 41s 22ms/step - loss: 1.5775 - accuracy: 0.0000e+00\n",
      "Epoch 65/84\n",
      "1837/1837 [==============================] - 41s 22ms/step - loss: 1.5732 - accuracy: 0.0000e+00\n",
      "Epoch 66/84\n",
      "1837/1837 [==============================] - 41s 23ms/step - loss: 1.5720 - accuracy: 0.0000e+00\n",
      "Epoch 67/84\n",
      "1837/1837 [==============================] - 42s 23ms/step - loss: 1.5665 - accuracy: 0.0000e+00\n",
      "Epoch 68/84\n",
      "1837/1837 [==============================] - 42s 23ms/step - loss: 1.5656 - accuracy: 0.0000e+00\n",
      "Epoch 69/84\n",
      "1837/1837 [==============================] - 41s 23ms/step - loss: 1.5624 - accuracy: 0.0000e+00\n",
      "Epoch 70/84\n",
      "1837/1837 [==============================] - 41s 22ms/step - loss: 1.5610 - accuracy: 0.0000e+00\n",
      "Epoch 71/84\n",
      "1837/1837 [==============================] - 42s 23ms/step - loss: 1.5601 - accuracy: 0.0000e+00\n",
      "Epoch 72/84\n",
      "1837/1837 [==============================] - 41s 22ms/step - loss: 1.5533 - accuracy: 0.0000e+00\n",
      "Epoch 73/84\n",
      "1837/1837 [==============================] - 41s 23ms/step - loss: 1.5533 - accuracy: 0.0000e+00\n",
      "Epoch 74/84\n",
      "1837/1837 [==============================] - 42s 23ms/step - loss: 1.5532 - accuracy: 0.0000e+00\n",
      "Epoch 75/84\n",
      "1837/1837 [==============================] - 41s 22ms/step - loss: 1.5497 - accuracy: 0.0000e+00\n",
      "Epoch 76/84\n",
      "1837/1837 [==============================] - 41s 22ms/step - loss: 1.5512 - accuracy: 0.0000e+00\n",
      "Epoch 77/84\n",
      "1837/1837 [==============================] - 42s 23ms/step - loss: 1.5492 - accuracy: 0.0000e+00\n",
      "Epoch 78/84\n",
      "1837/1837 [==============================] - 41s 22ms/step - loss: 1.5459 - accuracy: 0.0000e+00\n",
      "Epoch 79/84\n",
      "1837/1837 [==============================] - 42s 23ms/step - loss: 1.5460 - accuracy: 0.0000e+00\n",
      "Epoch 80/84\n",
      "1837/1837 [==============================] - 42s 23ms/step - loss: 1.5448 - accuracy: 0.0000e+00\n",
      "Epoch 81/84\n",
      "1837/1837 [==============================] - 41s 22ms/step - loss: 1.5416 - accuracy: 0.0000e+00\n",
      "Epoch 82/84\n",
      "1837/1837 [==============================] - 41s 23ms/step - loss: 1.5378 - accuracy: 0.0000e+00\n",
      "Epoch 83/84\n",
      "1837/1837 [==============================] - 42s 23ms/step - loss: 1.5366 - accuracy: 0.0000e+00\n",
      "Epoch 84/84\n",
      "1837/1837 [==============================] - 41s 23ms/step - loss: 1.5391 - accuracy: 0.0000e+00\n"
     ]
    }
   ],
   "source": [
    "# เริ่มการ train\n",
    "history = model.fit(network_input, network_output, epochs=200, batch_size=128, callbacks=callbacks_list)"
   ]
  },
  {
   "cell_type": "code",
   "execution_count": 13,
   "metadata": {},
   "outputs": [
    {
     "data": {
      "text/plain": [
       "<AxesSubplot:>"
      ]
     },
     "execution_count": 13,
     "metadata": {},
     "output_type": "execute_result"
    },
    {
     "data": {
      "image/png": "[encoded data removed]",
      "text/plain": [
       "<Figure size 432x288 with 1 Axes>"
      ]
     },
     "metadata": {
      "image/png": {
       "height": 248,
       "width": 378
      },
      "needs_background": "light"
     },
     "output_type": "display_data"
    }
   ],
   "source": [
    "# ทำการ plot ค่าต่างๆในการเทรน\n",
    "import pandas as pd\n",
    "\n",
    "pd.DataFrame(history.history).plot()"
   ]
  },
  {
   "cell_type": "code",
   "execution_count": 14,
   "metadata": {},
   "outputs": [],
   "source": [
    "# กรณีที่ต้องการเทรนโมเดลต่อจาก checkpoint ที่มีอยู่แล้ว\n",
    "\n",
    "#model_ckpt = tf.keras.models.load_model(\"PATH/TO/MODEL/CKPT\")\n",
    "\n",
    "#history = model_ckpt.fit(network_input, network_output, epochs=1000, batch_size=128, callbacks=callbacks_list, initial_epoch=289)"
   ]
  },
  {
   "cell_type": "code",
   "execution_count": 15,
   "metadata": {},
   "outputs": [],
   "source": [
    "model.save(\"tutorial.hdf5\")"
   ]
  },
  {
   "cell_type": "markdown",
   "metadata": {},
   "source": [
    "## inference"
   ]
  },
  {
   "cell_type": "code",
   "execution_count": 3,
   "metadata": {},
   "outputs": [],
   "source": [
    "music_generator = tf.keras.models.load_model(\"tutorial.hdf5\")"
   ]
  },
  {
   "cell_type": "code",
   "execution_count": 9,
   "metadata": {},
   "outputs": [],
   "source": [
    "### utils function that writes .midi files\n",
    "\n",
    "def create_midi(prediction_output, filename):\n",
    "    from music21 import note, chord, instrument, stream\n",
    "    offset = 0\n",
    "    output_notes = []\n",
    "\n",
    "        # create note and chord objects based on the values generated by the model\n",
    "    for pattern in prediction_output:\n",
    "            # pattern is a chord\n",
    "        if ('.' in pattern) or pattern.isdigit():\n",
    "            notes_in_chord = pattern.split('.')\n",
    "            notes = []\n",
    "            for current_note in notes_in_chord:\n",
    "                new_note = note.Note(int(current_note))\n",
    "                new_note.storedInstrument = instrument.Piano()\n",
    "                notes.append(new_note)\n",
    "            new_chord = chord.Chord(notes)\n",
    "            new_chord.offset = offset\n",
    "            output_notes.append(new_chord)\n",
    "            # pattern is a note\n",
    "        else:\n",
    "            new_note = note.Note(pattern)\n",
    "            new_note.offset = offset\n",
    "            new_note.storedInstrument = instrument.Piano()\n",
    "            output_notes.append(new_note)\n",
    "\n",
    "            # increase offset each iteration so that notes do not stack\n",
    "        offset += 0.25\n",
    "\n",
    "    midi_stream = stream.Stream(output_notes)\n",
    "\n",
    "    midi_stream.write(\"midi\", fp=filename)\n",
    "    return midi_stream"
   ]
  },
  {
   "cell_type": "code",
   "execution_count": 12,
   "metadata": {},
   "outputs": [
    {
     "name": "stderr",
     "output_type": "stream",
     "text": [
      "100%|██████████| 200/200 [00:06<00:00, 33.06it/s]\n"
     ]
    },
    {
     "data": {
      "text/plain": [
       "<music21.stream.Stream 0x21e93beb340>"
      ]
     },
     "execution_count": 12,
     "metadata": {},
     "output_type": "execute_result"
    }
   ],
   "source": [
    "### ดัดแปลง generation pipeline จาก tutorial เล็กน้อย\n",
    "import random\n",
    "testing_model = music_generator\n",
    "\n",
    "start = np.random.randint(0, len(network_input)-1)\n",
    "\n",
    "\n",
    "pitchnames = sorted(set(item for item in notes))\n",
    "int_to_note = dict((number, note) for number, note in enumerate(pitchnames))\n",
    "pattern = np.reshape(random.choices(list(range(len(int_to_note))), k=100), (100, 1))\n",
    "window_size = sequence_length\n",
    "prediction_output = []\n",
    "\n",
    "# doing auto regressive generation\n",
    "for note_indx in tqdm(range(200)):\n",
    "    prediction_input = tf.reshape(pattern, (1, len(pattern), 1))[:, note_indx:note_indx+window_size, :]\n",
    "\n",
    "    prediction = testing_model(prediction_input)\n",
    "    # get prediction\n",
    "    index = tf.argmax(prediction, axis=-1)\n",
    "    \n",
    "    # get note from prediction\n",
    "    result = int_to_note[index.numpy()[0]]\n",
    "    # add to output\n",
    "    prediction_output.append(result)\n",
    "    # add predicted note to the input sequence\n",
    "    pattern = tf.concat((pattern, tf.expand_dims(index, axis=0)), axis=0)\n",
    "\n",
    "    \n",
    "\n",
    "create_midi(prediction_output, \"tutorial_result_02.mid\")"
   ]
  },
  {
   "cell_type": "code",
   "execution_count": 21,
   "metadata": {},
   "outputs": [
    {
     "data": {
      "text/plain": [
       "<tf.Tensor: shape=(1,), dtype=int64, numpy=array([1112], dtype=int64)>"
      ]
     },
     "execution_count": 21,
     "metadata": {},
     "output_type": "execute_result"
    }
   ],
   "source": [
    "index"
   ]
  },
  {
   "cell_type": "code",
   "execution_count": 25,
   "metadata": {},
   "outputs": [
    {
     "data": {
      "text/plain": [
       "[152,\n",
       " 852,\n",
       " 846,\n",
       " 1136,\n",
       " 778,\n",
       " 211,\n",
       " 1067,\n",
       " 227,\n",
       " 454,\n",
       " 986,\n",
       " 991,\n",
       " 573,\n",
       " 388,\n",
       " 954,\n",
       " 678,\n",
       " 1008,\n",
       " 554,\n",
       " 0,\n",
       " 1123,\n",
       " 165,\n",
       " 269,\n",
       " 440,\n",
       " 325,\n",
       " 878,\n",
       " 393,\n",
       " 17,\n",
       " 1071,\n",
       " 533,\n",
       " 318,\n",
       " 417,\n",
       " 473,\n",
       " 660,\n",
       " 1120,\n",
       " 203,\n",
       " 914,\n",
       " 855,\n",
       " 650,\n",
       " 503,\n",
       " 1102,\n",
       " 708,\n",
       " 740,\n",
       " 973,\n",
       " 93,\n",
       " 903,\n",
       " 356,\n",
       " 571,\n",
       " 718,\n",
       " 789,\n",
       " 806,\n",
       " 114,\n",
       " 913,\n",
       " 318,\n",
       " 1114,\n",
       " 171,\n",
       " 375,\n",
       " 34,\n",
       " 500,\n",
       " 911,\n",
       " 634,\n",
       " 533,\n",
       " 999,\n",
       " 291,\n",
       " 590,\n",
       " 674,\n",
       " 632,\n",
       " 766,\n",
       " 452,\n",
       " 177,\n",
       " 197,\n",
       " 985,\n",
       " 778,\n",
       " 857,\n",
       " 911,\n",
       " 584,\n",
       " 679,\n",
       " 761,\n",
       " 428,\n",
       " 344,\n",
       " 46,\n",
       " 297,\n",
       " 386,\n",
       " 504,\n",
       " 217,\n",
       " 357,\n",
       " 1107,\n",
       " 1087,\n",
       " 1117,\n",
       " 660,\n",
       " 711,\n",
       " 883,\n",
       " 941,\n",
       " 244,\n",
       " 505,\n",
       " 1042,\n",
       " 8,\n",
       " 331,\n",
       " 162,\n",
       " 90,\n",
       " 155,\n",
       " 749]"
      ]
     },
     "execution_count": 25,
     "metadata": {},
     "output_type": "execute_result"
    }
   ],
   "source": [
    "pattern"
   ]
  },
  {
   "cell_type": "code",
   "execution_count": 29,
   "metadata": {},
   "outputs": [],
   "source": [
    "with open(\"../data/int_to_note.pkl\", \"wb\") as f:\n",
    "    pickle.dump(int_to_note, f)"
   ]
  }
 ],
 "metadata": {
  "file_extension": ".py",
  "interpreter": {
   "hash": "14958d3aee5f1cad06795f787e54b96185c25fb40dfec723a5be941f3a531b8c"
  },
  "kernelspec": {
   "display_name": "Python 3.9.9 64-bit",
   "language": "python",
   "name": "python3"
  },
  "language_info": {
   "codemirror_mode": {
    "name": "ipython",
    "version": 3
   },
   "file_extension": ".py",
   "mimetype": "text/x-python",
   "name": "python",
   "nbconvert_exporter": "python",
   "pygments_lexer": "ipython3",
   "version": "3.9.9"
  },
  "mimetype": "text/x-python",
  "name": "python",
  "npconvert_exporter": "python",
  "pygments_lexer": "ipython3",
  "version": 3
 },
 "nbformat": 4,
 "nbformat_minor": 2
}
